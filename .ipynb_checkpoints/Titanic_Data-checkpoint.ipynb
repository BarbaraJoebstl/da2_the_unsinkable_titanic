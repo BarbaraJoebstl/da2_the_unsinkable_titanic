{
 "cells": [
  {
   "cell_type": "markdown",
   "metadata": {},
   "source": [
    "***THE UNSINKABLE TITANIC***\n",
    "\n",
    "<cite>\n",
    "The sinking of the RMS Titanic is one of the most infamous shipwrecks in history. <br>\n",
    "On April 15, 1912, during her maiden voyage, the Titanic sank after colliding with an iceberg, killing 1502 out of 2224 passengers and crew. This sensational tragedy shocked the international community and led to better safety regulations for ships.\n",
    "\n",
    "One of the reasons that the shipwreck led to such loss of life was that there were not enough lifeboats for the passengers and crew. Although there was some element of luck involved in surviving the sinking, some groups of people were more likely to survive than others, such as women, children, and the upper-class.\n",
    "\n",
    "In this challenge, we ask you to complete the analysis of what sorts of people were likely to survive. In particular, we ask you to apply the tools of machine learning to predict which passengers survived the tragedy. \n",
    "</cite>"
   ]
  },
  {
   "cell_type": "code",
   "execution_count": 2,
   "metadata": {
    "collapsed": false
   },
   "outputs": [
    {
     "data": {
      "text/html": [
       "<div>\n",
       "<table border=\"1\" class=\"dataframe\">\n",
       "  <thead>\n",
       "    <tr style=\"text-align: right;\">\n",
       "      <th></th>\n",
       "      <th>PassengerId</th>\n",
       "      <th>Survived</th>\n",
       "      <th>Pclass</th>\n",
       "      <th>Name</th>\n",
       "      <th>Sex</th>\n",
       "      <th>Age</th>\n",
       "      <th>SibSp</th>\n",
       "      <th>Parch</th>\n",
       "      <th>Ticket</th>\n",
       "      <th>Fare</th>\n",
       "      <th>Cabin</th>\n",
       "      <th>Embarked</th>\n",
       "    </tr>\n",
       "  </thead>\n",
       "  <tbody>\n",
       "    <tr>\n",
       "      <th>0</th>\n",
       "      <td>1</td>\n",
       "      <td>0</td>\n",
       "      <td>3</td>\n",
       "      <td>Braund, Mr. Owen Harris</td>\n",
       "      <td>male</td>\n",
       "      <td>22.0</td>\n",
       "      <td>1</td>\n",
       "      <td>0</td>\n",
       "      <td>A/5 21171</td>\n",
       "      <td>7.2500</td>\n",
       "      <td>NaN</td>\n",
       "      <td>S</td>\n",
       "    </tr>\n",
       "    <tr>\n",
       "      <th>1</th>\n",
       "      <td>2</td>\n",
       "      <td>1</td>\n",
       "      <td>1</td>\n",
       "      <td>Cumings, Mrs. John Bradley (Florence Briggs Th...</td>\n",
       "      <td>female</td>\n",
       "      <td>38.0</td>\n",
       "      <td>1</td>\n",
       "      <td>0</td>\n",
       "      <td>PC 17599</td>\n",
       "      <td>71.2833</td>\n",
       "      <td>C85</td>\n",
       "      <td>C</td>\n",
       "    </tr>\n",
       "    <tr>\n",
       "      <th>2</th>\n",
       "      <td>3</td>\n",
       "      <td>1</td>\n",
       "      <td>3</td>\n",
       "      <td>Heikkinen, Miss. Laina</td>\n",
       "      <td>female</td>\n",
       "      <td>26.0</td>\n",
       "      <td>0</td>\n",
       "      <td>0</td>\n",
       "      <td>STON/O2. 3101282</td>\n",
       "      <td>7.9250</td>\n",
       "      <td>NaN</td>\n",
       "      <td>S</td>\n",
       "    </tr>\n",
       "    <tr>\n",
       "      <th>3</th>\n",
       "      <td>4</td>\n",
       "      <td>1</td>\n",
       "      <td>1</td>\n",
       "      <td>Futrelle, Mrs. Jacques Heath (Lily May Peel)</td>\n",
       "      <td>female</td>\n",
       "      <td>35.0</td>\n",
       "      <td>1</td>\n",
       "      <td>0</td>\n",
       "      <td>113803</td>\n",
       "      <td>53.1000</td>\n",
       "      <td>C123</td>\n",
       "      <td>S</td>\n",
       "    </tr>\n",
       "    <tr>\n",
       "      <th>4</th>\n",
       "      <td>5</td>\n",
       "      <td>0</td>\n",
       "      <td>3</td>\n",
       "      <td>Allen, Mr. William Henry</td>\n",
       "      <td>male</td>\n",
       "      <td>35.0</td>\n",
       "      <td>0</td>\n",
       "      <td>0</td>\n",
       "      <td>373450</td>\n",
       "      <td>8.0500</td>\n",
       "      <td>NaN</td>\n",
       "      <td>S</td>\n",
       "    </tr>\n",
       "  </tbody>\n",
       "</table>\n",
       "</div>"
      ],
      "text/plain": [
       "   PassengerId  Survived  Pclass  \\\n",
       "0            1         0       3   \n",
       "1            2         1       1   \n",
       "2            3         1       3   \n",
       "3            4         1       1   \n",
       "4            5         0       3   \n",
       "\n",
       "                                                Name     Sex   Age  SibSp  \\\n",
       "0                            Braund, Mr. Owen Harris    male  22.0      1   \n",
       "1  Cumings, Mrs. John Bradley (Florence Briggs Th...  female  38.0      1   \n",
       "2                             Heikkinen, Miss. Laina  female  26.0      0   \n",
       "3       Futrelle, Mrs. Jacques Heath (Lily May Peel)  female  35.0      1   \n",
       "4                           Allen, Mr. William Henry    male  35.0      0   \n",
       "\n",
       "   Parch            Ticket     Fare Cabin Embarked  \n",
       "0      0         A/5 21171   7.2500   NaN        S  \n",
       "1      0          PC 17599  71.2833   C85        C  \n",
       "2      0  STON/O2. 3101282   7.9250   NaN        S  \n",
       "3      0            113803  53.1000  C123        S  \n",
       "4      0            373450   8.0500   NaN        S  "
      ]
     },
     "execution_count": 2,
     "metadata": {},
     "output_type": "execute_result"
    }
   ],
   "source": [
    "%matplotlib inline \n",
    "\n",
    "import pandas as pd\n",
    "import numpy as np\n",
    "import matplotlib.pyplot as plt\n",
    "import seaborn as sns\n",
    "\n",
    "path = r'titanic_data.csv'\n",
    "data = pd.read_csv(path)\n",
    "data.head(5)"
   ]
  },
  {
   "cell_type": "markdown",
   "metadata": {},
   "source": [
    "**Meaning of the Columns**\n",
    "PassengerId: Id for the passenger in this dataset <br>\n",
    "Survived: 1 = Yes, 0 = No <br>\n",
    "Pclass: Passenger Class (1 = best class, 3 = 3rd class)  <br>\n",
    "Name: Name  <br>\n",
    "Sex: Sex <br>\n",
    "Age: Age<br>\n",
    "SibS: Number of Siblings/Spouses Aboard<br>\n",
    "Parch: Number of Parents/Children Aboard<br>\n",
    "Ticket: Ticket Number<br>\n",
    "Fare: Passenger Fare<br>\n",
    "Cabin: Cabin Number<br>\n",
    "Embarked: Port of Embarkation (C = Cherbourg; Q = Queenstown; S = Southampton)<br>"
   ]
  },
  {
   "cell_type": "code",
   "execution_count": 3,
   "metadata": {
    "collapsed": false
   },
   "outputs": [
    {
     "data": {
      "text/plain": [
       "891"
      ]
     },
     "execution_count": 3,
     "metadata": {},
     "output_type": "execute_result"
    }
   ],
   "source": [
    "len(data)"
   ]
  },
  {
   "cell_type": "code",
   "execution_count": 5,
   "metadata": {
    "collapsed": false
   },
   "outputs": [],
   "source": [
    "df = pd.read_csv(path, index_col=0, parse_dates=True)"
   ]
  },
  {
   "cell_type": "code",
   "execution_count": 6,
   "metadata": {
    "collapsed": false
   },
   "outputs": [
    {
     "data": {
      "text/plain": [
       "342"
      ]
     },
     "execution_count": 6,
     "metadata": {},
     "output_type": "execute_result"
    }
   ],
   "source": [
    "df.Survived.sum()"
   ]
  },
  {
   "cell_type": "code",
   "execution_count": 7,
   "metadata": {
    "collapsed": false
   },
   "outputs": [
    {
     "data": {
      "text/plain": [
       "Survived    891\n",
       "Pclass      891\n",
       "Name        891\n",
       "Sex         891\n",
       "Age         714\n",
       "SibSp       891\n",
       "Parch       891\n",
       "Ticket      891\n",
       "Fare        891\n",
       "Cabin       204\n",
       "Embarked    889\n",
       "dtype: int64"
      ]
     },
     "execution_count": 7,
     "metadata": {},
     "output_type": "execute_result"
    }
   ],
   "source": [
    "#return the NaN Values of the columns\n",
    "df.count()"
   ]
  },
  {
   "cell_type": "code",
   "execution_count": 9,
   "metadata": {
    "collapsed": false
   },
   "outputs": [
    {
     "data": {
      "text/html": [
       "<div>\n",
       "<table border=\"1\" class=\"dataframe\">\n",
       "  <thead>\n",
       "    <tr style=\"text-align: right;\">\n",
       "      <th></th>\n",
       "      <th>Survived</th>\n",
       "      <th>Pclass</th>\n",
       "      <th>Age</th>\n",
       "      <th>SibSp</th>\n",
       "      <th>Parch</th>\n",
       "      <th>Fare</th>\n",
       "    </tr>\n",
       "  </thead>\n",
       "  <tbody>\n",
       "    <tr>\n",
       "      <th>count</th>\n",
       "      <td>891.000000</td>\n",
       "      <td>891.000000</td>\n",
       "      <td>714.000000</td>\n",
       "      <td>891.000000</td>\n",
       "      <td>891.000000</td>\n",
       "      <td>891.000000</td>\n",
       "    </tr>\n",
       "    <tr>\n",
       "      <th>mean</th>\n",
       "      <td>0.383838</td>\n",
       "      <td>2.308642</td>\n",
       "      <td>29.699118</td>\n",
       "      <td>0.523008</td>\n",
       "      <td>0.381594</td>\n",
       "      <td>32.204208</td>\n",
       "    </tr>\n",
       "    <tr>\n",
       "      <th>std</th>\n",
       "      <td>0.486592</td>\n",
       "      <td>0.836071</td>\n",
       "      <td>14.526497</td>\n",
       "      <td>1.102743</td>\n",
       "      <td>0.806057</td>\n",
       "      <td>49.693429</td>\n",
       "    </tr>\n",
       "    <tr>\n",
       "      <th>min</th>\n",
       "      <td>0.000000</td>\n",
       "      <td>1.000000</td>\n",
       "      <td>0.420000</td>\n",
       "      <td>0.000000</td>\n",
       "      <td>0.000000</td>\n",
       "      <td>0.000000</td>\n",
       "    </tr>\n",
       "    <tr>\n",
       "      <th>25%</th>\n",
       "      <td>0.000000</td>\n",
       "      <td>2.000000</td>\n",
       "      <td>NaN</td>\n",
       "      <td>0.000000</td>\n",
       "      <td>0.000000</td>\n",
       "      <td>7.910400</td>\n",
       "    </tr>\n",
       "    <tr>\n",
       "      <th>50%</th>\n",
       "      <td>0.000000</td>\n",
       "      <td>3.000000</td>\n",
       "      <td>NaN</td>\n",
       "      <td>0.000000</td>\n",
       "      <td>0.000000</td>\n",
       "      <td>14.454200</td>\n",
       "    </tr>\n",
       "    <tr>\n",
       "      <th>75%</th>\n",
       "      <td>1.000000</td>\n",
       "      <td>3.000000</td>\n",
       "      <td>NaN</td>\n",
       "      <td>1.000000</td>\n",
       "      <td>0.000000</td>\n",
       "      <td>31.000000</td>\n",
       "    </tr>\n",
       "    <tr>\n",
       "      <th>max</th>\n",
       "      <td>1.000000</td>\n",
       "      <td>3.000000</td>\n",
       "      <td>80.000000</td>\n",
       "      <td>8.000000</td>\n",
       "      <td>6.000000</td>\n",
       "      <td>512.329200</td>\n",
       "    </tr>\n",
       "  </tbody>\n",
       "</table>\n",
       "</div>"
      ],
      "text/plain": [
       "         Survived      Pclass         Age       SibSp       Parch        Fare\n",
       "count  891.000000  891.000000  714.000000  891.000000  891.000000  891.000000\n",
       "mean     0.383838    2.308642   29.699118    0.523008    0.381594   32.204208\n",
       "std      0.486592    0.836071   14.526497    1.102743    0.806057   49.693429\n",
       "min      0.000000    1.000000    0.420000    0.000000    0.000000    0.000000\n",
       "25%      0.000000    2.000000         NaN    0.000000    0.000000    7.910400\n",
       "50%      0.000000    3.000000         NaN    0.000000    0.000000   14.454200\n",
       "75%      1.000000    3.000000         NaN    1.000000    0.000000   31.000000\n",
       "max      1.000000    3.000000   80.000000    8.000000    6.000000  512.329200"
      ]
     },
     "execution_count": 9,
     "metadata": {},
     "output_type": "execute_result"
    }
   ],
   "source": [
    "df.describe()"
   ]
  },
  {
   "cell_type": "code",
   "execution_count": 10,
   "metadata": {
    "collapsed": false
   },
   "outputs": [
    {
     "name": "stdout",
     "output_type": "stream",
     "text": [
      "Total survivors: 32 %\n",
      "Sample survivors: 38 %\n"
     ]
    }
   ],
   "source": [
    "per_total_survivors = (722*100)/2224\n",
    "per_sample_surviviors = (342*100)/891\n",
    "\n",
    "print 'Total survivors:', per_total_survivors, '%'\n",
    "print 'Sample survivors:', per_sample_surviviors, '%'"
   ]
  },
  {
   "cell_type": "markdown",
   "metadata": {},
   "source": [
    "**This Dataset**\n",
    "\n",
    "We have the Data of *891 Passengers* of the Titanic. As the total number of passengers and crew was 2224 Persons, we will have to treat this data like a sample and use Bessels Correction for our calculations. We have the age for 714 passengers and cabin numbers for 204 passengers.\n",
    "From this group of passengers(891 Passengers), 342 passengers survived. \n",
    "The mean age of the passengers is around 30 years. The youngest Passenger was a Baby and the oldest Passenger was 80 years old.\n",
    "\n",
    "**This leads to the following questions:**\n",
    "\n",
    "*1. Fares and Embarkation*\n",
    "- Is there a relation between the class and the ticket fare?\n",
    "- Is there a relation between the port of embarkation and class?\n",
    "- Is there a difference between the wealth of the people from the embarkation point? \n",
    "- Is there a relation between the passenger class and the survival rate? Are passengers from the first class more likely to survive?\n",
    "\n",
    "*2. Family Spirit*\n",
    "- Is a person with a Sibling/Spouse on board more likely to survive?\n",
    "- Is a person with Parents and Children on board more likely to survive?\n",
    "- Is a person with both Siblings and Parents on board more likely to survive?\n",
    "\n",
    "*3. Women and children first*\n",
    "- Is there a relation between the sex and the survival rate?\n",
    "- Is there a relation between the age and the survial rate?\n",
    "- Are female passengers with first class tickets more likely to survive than male passengers from third class?\n",
    "\n",
    "*4. Nomen est omen*\n",
    "- What is the most common first name?\n",
    "- What is the most common last name? \n",
    "- Where they more likely to survive?"
   ]
  },
  {
   "cell_type": "markdown",
   "metadata": {},
   "source": [
    "*** 1. Fares and Embarkation ***"
   ]
  },
  {
   "cell_type": "markdown",
   "metadata": {},
   "source": [
    "*1a. Is there a relation between the passenger class and the tickte fare?*"
   ]
  },
  {
   "cell_type": "code",
   "execution_count": 11,
   "metadata": {
    "collapsed": false
   },
   "outputs": [
    {
     "data": {
      "text/html": [
       "<div>\n",
       "<table border=\"1\" class=\"dataframe\">\n",
       "  <thead>\n",
       "    <tr style=\"text-align: right;\">\n",
       "      <th></th>\n",
       "      <th></th>\n",
       "      <th>Fare</th>\n",
       "    </tr>\n",
       "    <tr>\n",
       "      <th>Pclass</th>\n",
       "      <th></th>\n",
       "      <th></th>\n",
       "    </tr>\n",
       "  </thead>\n",
       "  <tbody>\n",
       "    <tr>\n",
       "      <th rowspan=\"8\" valign=\"top\">1.0</th>\n",
       "      <th>count</th>\n",
       "      <td>211.000000</td>\n",
       "    </tr>\n",
       "    <tr>\n",
       "      <th>mean</th>\n",
       "      <td>86.148874</td>\n",
       "    </tr>\n",
       "    <tr>\n",
       "      <th>std</th>\n",
       "      <td>78.212155</td>\n",
       "    </tr>\n",
       "    <tr>\n",
       "      <th>min</th>\n",
       "      <td>5.000000</td>\n",
       "    </tr>\n",
       "    <tr>\n",
       "      <th>25%</th>\n",
       "      <td>32.910400</td>\n",
       "    </tr>\n",
       "    <tr>\n",
       "      <th>50%</th>\n",
       "      <td>61.979200</td>\n",
       "    </tr>\n",
       "    <tr>\n",
       "      <th>75%</th>\n",
       "      <td>99.962500</td>\n",
       "    </tr>\n",
       "    <tr>\n",
       "      <th>max</th>\n",
       "      <td>512.329200</td>\n",
       "    </tr>\n",
       "    <tr>\n",
       "      <th rowspan=\"8\" valign=\"top\">2.0</th>\n",
       "      <th>count</th>\n",
       "      <td>178.000000</td>\n",
       "    </tr>\n",
       "    <tr>\n",
       "      <th>mean</th>\n",
       "      <td>21.358661</td>\n",
       "    </tr>\n",
       "    <tr>\n",
       "      <th>std</th>\n",
       "      <td>13.083169</td>\n",
       "    </tr>\n",
       "    <tr>\n",
       "      <th>min</th>\n",
       "      <td>10.500000</td>\n",
       "    </tr>\n",
       "    <tr>\n",
       "      <th>25%</th>\n",
       "      <td>13.000000</td>\n",
       "    </tr>\n",
       "    <tr>\n",
       "      <th>50%</th>\n",
       "      <td>15.022900</td>\n",
       "    </tr>\n",
       "    <tr>\n",
       "      <th>75%</th>\n",
       "      <td>26.000000</td>\n",
       "    </tr>\n",
       "    <tr>\n",
       "      <th>max</th>\n",
       "      <td>73.500000</td>\n",
       "    </tr>\n",
       "    <tr>\n",
       "      <th rowspan=\"8\" valign=\"top\">3.0</th>\n",
       "      <th>count</th>\n",
       "      <td>487.000000</td>\n",
       "    </tr>\n",
       "    <tr>\n",
       "      <th>mean</th>\n",
       "      <td>13.787875</td>\n",
       "    </tr>\n",
       "    <tr>\n",
       "      <th>std</th>\n",
       "      <td>11.760718</td>\n",
       "    </tr>\n",
       "    <tr>\n",
       "      <th>min</th>\n",
       "      <td>4.012500</td>\n",
       "    </tr>\n",
       "    <tr>\n",
       "      <th>25%</th>\n",
       "      <td>7.750000</td>\n",
       "    </tr>\n",
       "    <tr>\n",
       "      <th>50%</th>\n",
       "      <td>8.050000</td>\n",
       "    </tr>\n",
       "    <tr>\n",
       "      <th>75%</th>\n",
       "      <td>15.500000</td>\n",
       "    </tr>\n",
       "    <tr>\n",
       "      <th>max</th>\n",
       "      <td>69.550000</td>\n",
       "    </tr>\n",
       "  </tbody>\n",
       "</table>\n",
       "</div>"
      ],
      "text/plain": [
       "                    Fare\n",
       "Pclass                  \n",
       "1.0    count  211.000000\n",
       "       mean    86.148874\n",
       "       std     78.212155\n",
       "       min      5.000000\n",
       "       25%     32.910400\n",
       "       50%     61.979200\n",
       "       75%     99.962500\n",
       "       max    512.329200\n",
       "2.0    count  178.000000\n",
       "       mean    21.358661\n",
       "       std     13.083169\n",
       "       min     10.500000\n",
       "       25%     13.000000\n",
       "       50%     15.022900\n",
       "       75%     26.000000\n",
       "       max     73.500000\n",
       "3.0    count  487.000000\n",
       "       mean    13.787875\n",
       "       std     11.760718\n",
       "       min      4.012500\n",
       "       25%      7.750000\n",
       "       50%      8.050000\n",
       "       75%     15.500000\n",
       "       max     69.550000"
      ]
     },
     "execution_count": 11,
     "metadata": {},
     "output_type": "execute_result"
    }
   ],
   "source": [
    "fare_df = df.loc[:,['Fare', 'Pclass']]\n",
    "#skip the null values for the fares\n",
    "fare_df.Fare = fare_df.Fare[fare_df.Fare > 0]\n",
    "fare_df.Pclass = fare_df.Pclass[fare_df.Fare > 0]\n",
    "\n",
    "fare_df = fare_df.groupby(['Pclass'])\n",
    "fare_df.describe()"
   ]
  },
  {
   "cell_type": "markdown",
   "metadata": {},
   "source": [
    "Of course there is a relation between the fare and the passenger class. The mean price for a first class ticket is 86.14, the mean price for a second class ticket is 21.35 and the mean price for a third class ticket is 13.78."
   ]
  },
  {
   "cell_type": "code",
   "execution_count": 12,
   "metadata": {
    "collapsed": false
   },
   "outputs": [
    {
     "name": "stdout",
     "output_type": "stream",
     "text": [
      "('C', 512.32920000000001, 32.2042079685746, 0.0)\n"
     ]
    }
   ],
   "source": [
    "#In what Port was the most expensive ticket bought?\n",
    "#C = Cherbourg; Q = Queenstown; S = Southampton\n",
    "#What was the most expensive ticket\n",
    "fare_list = df['Fare'].tolist()\n",
    "embarked_list = df['Embarked'].tolist()\n",
    "\n",
    "fare = pd.Series(fare_list, index=embarked_list)\n",
    "\n",
    "def highest_fare(fare):\n",
    "    port_with_highest_fare = fare.argmax()\n",
    "    highest_fare = fare.max()\n",
    "    mean_fare = fare.mean()\n",
    "    #because min value is 0.00\n",
    "    min_fare = fare.min()\n",
    "     \n",
    "    return (port_with_highest_fare, highest_fare, mean_fare, min_fare)\n",
    "\n",
    "print highest_fare(fare)"
   ]
  },
  {
   "cell_type": "markdown",
   "metadata": {},
   "source": [
    "The most expensive ticket was sold in Cherbourg and it cost 512.33.\n",
    "\n",
    "*1b. Is there a relation between the port of embarkation and the passenger class?*"
   ]
  },
  {
   "cell_type": "code",
   "execution_count": 13,
   "metadata": {
    "collapsed": false
   },
   "outputs": [
    {
     "data": {
      "text/plain": [
       "<matplotlib.text.Text at 0x114873950>"
      ]
     },
     "execution_count": 13,
     "metadata": {},
     "output_type": "execute_result"
    },
    {
     "data": {
      "image/png": "[encoded data removed]",
      "text/plain": [
       "<matplotlib.figure.Figure at 0x1146e3dd0>"
      ]
     },
     "metadata": {},
     "output_type": "display_data"
    }
   ],
   "source": [
    "def get_class_by_embarking(port, pclass):    \n",
    "    pclass = df[(df[\"Embarked\"]== port) & (df['Pclass'] == pclass)].count().Cabin\n",
    "    return pclass\n",
    "\n",
    "df.groupby('Embarked')['Pclass'].value_counts().unstack().plot(kind = 'bar')\n",
    "plt.legend(['First Class', 'Second Class', 'Third Class'])\n",
    "plt.xticks([0, 1, 2], ['Cherbourg', 'Queenstown', 'Southampton'], rotation = 0)\n",
    "plt.title('Passenger Counts\\nby\\nClass and Port')"
   ]
  },
  {
   "cell_type": "code",
   "execution_count": 15,
   "metadata": {
    "collapsed": false
   },
   "outputs": [
    {
     "data": {
      "text/plain": [
       "<matplotlib.text.Text at 0x114ce94d0>"
      ]
     },
     "execution_count": 15,
     "metadata": {},
     "output_type": "execute_result"
    },
    {
     "data": {
      "image/png": "[encoded data removed]",
      "text/plain": [
       "<matplotlib.figure.Figure at 0x103b075d0>"
      ]
     },
     "metadata": {},
     "output_type": "display_data"
    }
   ],
   "source": [
    "df.groupby('Embarked')['Survived'].value_counts().unstack().plot(kind = 'bar')\n",
    "plt.legend(['Survived', 'Dead'])\n",
    "plt.xticks([0, 1, 2], ['Cherbourg', 'Queenstown', 'Southampton'], rotation = 0)\n",
    "plt.title('Passenger Counts\\nby\\nClass and Port')"
   ]
  },
  {
   "cell_type": "markdown",
   "metadata": {},
   "source": [
    "Regarding the numbers we can say that in Queenstown alomst only third class tickets where sold. Whereas in Cherbourg the highest part on first class tickets where bought."
   ]
  },
  {
   "cell_type": "markdown",
   "metadata": {},
   "source": [
    "*1c. Is there a difference between the wealth of the people from the embarkation point?*\n",
    "\n",
    "Regarding the ticket sales it seems that in the area of Queenstown a lot of poor people lived, where as in Cherbourg there where mainly rich (1st class) or poor (3rd class) people. In Southampton there is almost the same amount of 1st and 2nd class tickets, but also here the 3rd class tickets take the major part."
   ]
  },
  {
   "cell_type": "markdown",
   "metadata": {},
   "source": [
    "*1d. Is there a relation between the passenger class and the survival rate? Are passengers from the first class more likely to survive? *"
   ]
  },
  {
   "cell_type": "code",
   "execution_count": 17,
   "metadata": {
    "collapsed": false
   },
   "outputs": [
    {
     "name": "stdout",
     "output_type": "stream",
     "text": [
      "Survivors in % by Port\n",
      "33 % from Southampton survived\n",
      "55 % from Cherbourg survived\n",
      "38 % from Queenstown survived\n",
      "-------------------\n",
      "20 % from Southampton had a cabin\n",
      "41 % from Cherbourg had a cabin\n",
      "5 % from Queenstown had a cabin\n",
      "-------------------\n",
      "Survival rate by class\n",
      "Survived  Pclass\n",
      "0         1          80\n",
      "          2          97\n",
      "          3         372\n",
      "1         1         136\n",
      "          2          87\n",
      "          3         119\n",
      "dtype: int64\n"
     ]
    }
   ],
   "source": [
    "def passengers_and_survivors_by_port(port):\n",
    "    passengers = df[df.Embarked == port]['Survived'].count()\n",
    "    survivors = df[(df[\"Embarked\"]== port) & (df['Survived'] == 1)].count().Survived\n",
    "    cabin = df[(df[\"Embarked\"]== port) & (df['Cabin'])].count().Cabin\n",
    "    \n",
    "    return(passengers, survivors, cabin)\n",
    "\n",
    "def percentage_of_survivors_by_port(port):\n",
    "    passengers = df[df.Embarked == port]['Survived'].count()\n",
    "    survivors = df[(df[\"Embarked\"]== port) & (df['Survived'] == 1)].count().Survived\n",
    "    \n",
    "    return  survivors*100/passengers\n",
    "\n",
    "def percentage_of_cabin_owners_port(port):\n",
    "    passengers = df[df.Embarked == port]['Survived'].count()\n",
    "    cabin = df[(df[\"Embarked\"]== port) & (df['Cabin'])].count().Cabin\n",
    "    \n",
    "    return  cabin*100/passengers\n",
    "\n",
    "def class_members_by_port(port):\n",
    "    class_1 = df[(df[\"Embarked\"]== port) & (df['Pclass'] == 1)].count().Embarked\n",
    "    class_2 = df[(df[\"Embarked\"]== port) & (df['Pclass'] == 1)].count().Embarked\n",
    "    class_3 = df[(df[\"Embarked\"]== port) & (df['Pclass'] == 1)].count().Embarked\n",
    "    return (class_1, class_2, class_3)\n",
    "\n",
    "\n",
    "print 'Survivors in % by Port'\n",
    "print percentage_of_survivors_by_port('S'), '% from Southampton survived'\n",
    "print percentage_of_survivors_by_port('C'), '% from Cherbourg survived'\n",
    "print percentage_of_survivors_by_port('Q'), '% from Queenstown survived'\n",
    "print '-------------------'\n",
    "print percentage_of_cabin_owners_port('S'), '% from Southampton had a cabin'\n",
    "print percentage_of_cabin_owners_port('C'), '% from Cherbourg had a cabin'\n",
    "print percentage_of_cabin_owners_port('Q'), '% from Queenstown had a cabin'\n",
    "print '-------------------'\n",
    "\n",
    "print 'Survival rate by class'\n",
    "grouped_data = df.groupby(['Survived', 'Pclass'])\n",
    "print grouped_data.size()\n"
   ]
  },
  {
   "cell_type": "markdown",
   "metadata": {},
   "source": [
    "As we can see in the plot above, the most passengers from the first class embarked in Cherbourg. And because 55% of the people from Cherbourg survived and also 44% percent of the passengers from Cherbourg hat a cabin, we can say that people from the first class are more likely to survive than people from the lower classes. "
   ]
  },
  {
   "cell_type": "markdown",
   "metadata": {},
   "source": [
    "*** 2. FAMILY SPIRIT ***"
   ]
  },
  {
   "cell_type": "code",
   "execution_count": 18,
   "metadata": {
    "collapsed": false
   },
   "outputs": [
    {
     "name": "stdout",
     "output_type": "stream",
     "text": [
      "-0.549499619944\n",
      "-0.0779826784139\n",
      "-0.338481035961\n"
     ]
    },
    {
     "data": {
      "text/html": [
       "<div>\n",
       "<table border=\"1\" class=\"dataframe\">\n",
       "  <thead>\n",
       "    <tr style=\"text-align: right;\">\n",
       "      <th></th>\n",
       "      <th>Survived</th>\n",
       "      <th>Pclass</th>\n",
       "      <th>Age</th>\n",
       "      <th>SibSp</th>\n",
       "      <th>Parch</th>\n",
       "      <th>Fare</th>\n",
       "    </tr>\n",
       "  </thead>\n",
       "  <tbody>\n",
       "    <tr>\n",
       "      <th>Survived</th>\n",
       "      <td>1.000000</td>\n",
       "      <td>-0.338481</td>\n",
       "      <td>-0.077221</td>\n",
       "      <td>-0.035322</td>\n",
       "      <td>0.081629</td>\n",
       "      <td>0.257307</td>\n",
       "    </tr>\n",
       "    <tr>\n",
       "      <th>Pclass</th>\n",
       "      <td>-0.338481</td>\n",
       "      <td>1.000000</td>\n",
       "      <td>-0.369226</td>\n",
       "      <td>0.083081</td>\n",
       "      <td>0.018443</td>\n",
       "      <td>-0.549500</td>\n",
       "    </tr>\n",
       "    <tr>\n",
       "      <th>Age</th>\n",
       "      <td>-0.077221</td>\n",
       "      <td>-0.369226</td>\n",
       "      <td>1.000000</td>\n",
       "      <td>-0.308247</td>\n",
       "      <td>-0.189119</td>\n",
       "      <td>0.096067</td>\n",
       "    </tr>\n",
       "    <tr>\n",
       "      <th>SibSp</th>\n",
       "      <td>-0.035322</td>\n",
       "      <td>0.083081</td>\n",
       "      <td>-0.308247</td>\n",
       "      <td>1.000000</td>\n",
       "      <td>0.414838</td>\n",
       "      <td>0.159651</td>\n",
       "    </tr>\n",
       "    <tr>\n",
       "      <th>Parch</th>\n",
       "      <td>0.081629</td>\n",
       "      <td>0.018443</td>\n",
       "      <td>-0.189119</td>\n",
       "      <td>0.414838</td>\n",
       "      <td>1.000000</td>\n",
       "      <td>0.216225</td>\n",
       "    </tr>\n",
       "    <tr>\n",
       "      <th>Fare</th>\n",
       "      <td>0.257307</td>\n",
       "      <td>-0.549500</td>\n",
       "      <td>0.096067</td>\n",
       "      <td>0.159651</td>\n",
       "      <td>0.216225</td>\n",
       "      <td>1.000000</td>\n",
       "    </tr>\n",
       "  </tbody>\n",
       "</table>\n",
       "</div>"
      ],
      "text/plain": [
       "          Survived    Pclass       Age     SibSp     Parch      Fare\n",
       "Survived  1.000000 -0.338481 -0.077221 -0.035322  0.081629  0.257307\n",
       "Pclass   -0.338481  1.000000 -0.369226  0.083081  0.018443 -0.549500\n",
       "Age      -0.077221 -0.369226  1.000000 -0.308247 -0.189119  0.096067\n",
       "SibSp    -0.035322  0.083081 -0.308247  1.000000  0.414838  0.159651\n",
       "Parch     0.081629  0.018443 -0.189119  0.414838  1.000000  0.216225\n",
       "Fare      0.257307 -0.549500  0.096067  0.159651  0.216225  1.000000"
      ]
     },
     "execution_count": 18,
     "metadata": {},
     "output_type": "execute_result"
    }
   ],
   "source": [
    "def correlation(x, y):\n",
    "    std_x = (x - x.mean()) / x.std(ddof=0)\n",
    "    std_y = (y - y.mean()) / y.std(ddof=0)\n",
    "    \n",
    "    return (std_x * std_y).mean()\n",
    "#correlation between entry point and ticket fee\n",
    "correlation_embarkingAndFare = correlation(df.Pclass, df.Fare)\n",
    "print correlation_embarkingAndFare\n",
    "\n",
    "correlation_surviveAndAge = correlation(df.Survived, df.Age)\n",
    "print correlation_surviveAndAge\n",
    "\n",
    "correlation_surviveAndClass = correlation(df.Survived, df.Pclass)\n",
    "print correlation_surviveAndClass\n",
    "\n",
    "#get correlation with build in function\n",
    "df.corr()"
   ]
  },
  {
   "cell_type": "markdown",
   "metadata": {},
   "source": [
    "*2a. Is a person with a Sibling/Spouse on board more likely to survive?*\n",
    "*2b. Is a person with Parents and Children on board more likely to survive?*\n",
    "*2c. Is a person with both Siblings and Parents on board more likely to survive?*"
   ]
  },
  {
   "cell_type": "code",
   "execution_count": 20,
   "metadata": {
    "collapsed": false
   },
   "outputs": [
    {
     "data": {
      "text/plain": [
       "<seaborn.axisgrid.FacetGrid at 0x117b24710>"
      ]
     },
     "execution_count": 20,
     "metadata": {},
     "output_type": "execute_result"
    },
    {
     "data": {
      "image/png": "[encoded data removed]",
      "text/plain": [
       "<matplotlib.figure.Figure at 0x1144d3750>"
      ]
     },
     "metadata": {},
     "output_type": "display_data"
    },
    {
     "data": {
      "image/png": "[encoded data removed]",
      "text/plain": [
       "<matplotlib.figure.Figure at 0x114b08350>"
      ]
     },
     "metadata": {},
     "output_type": "display_data"
    }
   ],
   "source": [
    "family_df = df.loc[:, ['SibSp', 'Parch', 'Survived']]\n",
    "\n",
    "#create a column where we can sum up the relations\n",
    "family_df['Family'] = family_df['SibSp'] + family_df['Parch']\n",
    "family_df['Family'].loc[family_df['Family'] > 0] = \"YES\"\n",
    "family_df['Family'].loc[family_df['Family'] == 0] = \"NO\"\n",
    "sns.factorplot('Family', data=family_df, kind='count')\n",
    "\n",
    "#transform valus for the family column\n",
    "family_df['Family'] = family_df['Family'].map({'YES': 'hasFamily', 'NO': 'noFamily'})\n",
    "family_df['Survived'] = family_df['Survived'].map({0: 'died', 1: 'survived'})\n",
    "\n",
    "sns.factorplot('Survived', data=family_df, hue='Family',kind='count')"
   ]
  },
  {
   "cell_type": "markdown",
   "metadata": {},
   "source": [
    "As we can see in the plot above people with family on board where more likely to survive. This proofs the families have a better bonding."
   ]
  },
  {
   "cell_type": "markdown",
   "metadata": {},
   "source": [
    "**3. WOMEN AND CHILDREN FIRST**\n",
    "\n",
    "3a. Is there a relation between the sex and the survival rate?"
   ]
  },
  {
   "cell_type": "code",
   "execution_count": 33,
   "metadata": {
    "collapsed": false
   },
   "outputs": [
    {
     "data": {
      "image/png": "[encoded data removed]",
      "text/plain": [
       "<matplotlib.figure.Figure at 0x118dcb290>"
      ]
     },
     "metadata": {},
     "output_type": "display_data"
    }
   ],
   "source": [
    "gender_df = df.loc[:,['Sex','Age','Survived', 'Pclass']].copy()\n",
    "\n",
    "#gender_df.groupby('Embarked')['Pclass'].value_counts().unstack().plot(kind = 'bar')\n",
    "#plt.legend(['First Class', 'Second Class', 'Third Class'])\n",
    "#plt.xticks([0, 1, 2], ['Cherbourg', 'Queenstown', 'Southampton'], rotation = 0)\n",
    "#plt.title('Passenger Counts\\nby\\nClass and Port')\n",
    "\n",
    "\n",
    "#sns.yticks([0,1], ['Dead', 'Survived'])\n",
    "lm = sns.lmplot('Age','Survived', gender_df, hue='Sex', size=6, legend=True)\n",
    "lm = (lm.set_axis_labels(\"Age\", \"<--- Dead - Survived --->\").set(ylim=(0, 1), yticks=[0,1]).fig.subplots_adjust(wspace=.02))"
   ]
  },
  {
   "cell_type": "markdown",
   "metadata": {},
   "source": [
    "As we see in the plot above more women survived the titanic. Older Women are more likely to survive than older men.\n",
    "\n",
    "*3b. Is there a relation between the age and the survial rate?*"
   ]
  },
  {
   "cell_type": "code",
   "execution_count": 75,
   "metadata": {
    "collapsed": false
   },
   "outputs": [
    {
     "name": "stdout",
     "output_type": "stream",
     "text": [
      "                Sex   Age  Survived  Pclass\n",
      "PassengerId                                \n",
      "1              male  22.0         0       3\n",
      "2            female  38.0         1       1\n",
      "3            female  26.0         1       3\n",
      "4            female  35.0         1       1\n",
      "5              male  35.0         0       3\n",
      "6              male   NaN         0       3\n",
      "7              male  54.0         0       1\n",
      "8             child   2.0         0       3\n",
      "9            female  27.0         1       3\n",
      "10            child  14.0         1       2\n"
     ]
    },
    {
     "data": {
      "text/plain": [
       "<seaborn.axisgrid.FacetGrid at 0x117fb2650>"
      ]
     },
     "execution_count": 75,
     "metadata": {},
     "output_type": "execute_result"
    },
    {
     "data": {
      "image/png": "[encoded data removed]",
      "text/plain": [
       "<matplotlib.figure.Figure at 0x118fa6510>"
      ]
     },
     "metadata": {},
     "output_type": "display_data"
    }
   ],
   "source": [
    "def get_childs(passenger):\n",
    "    age,sex = passenger\n",
    "    if age<16:\n",
    "        return 'child'\n",
    "    else:\n",
    "        return sex\n",
    "\n",
    "#change values in the sex column    \n",
    "gender_df['Sex'] = gender_df[['Age','Sex']].apply(get_childs, axis=1)\n",
    "\n",
    "print gender_df.head(10)\n",
    "\n",
    "sns.factorplot('Survived',data=gender_df,hue='Sex',kind='count')\n"
   ]
  },
  {
   "cell_type": "markdown",
   "metadata": {
    "collapsed": true
   },
   "source": [
    "*3c. Are female passengers with first class tickets more likely to survive than male passengers from third class?*"
   ]
  },
  {
   "cell_type": "code",
   "execution_count": 35,
   "metadata": {
    "collapsed": false
   },
   "outputs": [
    {
     "data": {
      "image/png": "[encoded data removed]",
      "text/plain": [
       "<matplotlib.figure.Figure at 0x118d7e190>"
      ]
     },
     "metadata": {},
     "output_type": "display_data"
    }
   ],
   "source": [
    "lm = sns.lmplot('Pclass','Survived', gender_df, hue='Sex', size=6, legend=True)\n",
    "lm = (lm.set_axis_labels('Passenger Class', '<--- Dead - Survived --->').set(ylim=(0, 1), yticks=[0,1], xlim=(1, 3), xticks=[1,2,3]).fig.subplots_adjust(wspace=.02))"
   ]
  },
  {
   "cell_type": "markdown",
   "metadata": {},
   "source": [
    "No, children of the first class are more likely to survive than women of with a first class ticket."
   ]
  },
  {
   "cell_type": "markdown",
   "metadata": {},
   "source": [
    "*** 4. NOMEN EST OMEN ***"
   ]
  },
  {
   "cell_type": "code",
   "execution_count": 59,
   "metadata": {
    "collapsed": false
   },
   "outputs": [
    {
     "name": "stdout",
     "output_type": "stream",
     "text": [
      "Firstnames------------------------------\n",
      "Real_First_Name  Survived\n",
      "William          0           27\n",
      "John             0           22\n",
      "Thomas           0           11\n",
      "Charles          0           10\n",
      "James            0           10\n",
      "George           0           10\n",
      "Henry            0            9\n",
      "Johan            0            8\n",
      "Richard          0            8\n",
      "William          1            8\n",
      "Frederick        0            7\n",
      "Alfred           0            7\n",
      "Joseph           0            6\n",
      "Edward           0            6\n",
      "Arthur           0            6\n",
      "Karl             0            6\n",
      "Elizabeth        1            6\n",
      "Ernest           0            5\n",
      "Samuel           0            5\n",
      "Robert           0            5\n",
      "dtype: int64\n",
      "Lastnames------------------------------\n",
      "Lastname    Survived\n",
      "Andersson   0           7\n",
      "Sage        0           7\n",
      "Goodwin     0           6\n",
      "Panula      0           6\n",
      "Skoog       0           6\n",
      "Rice        0           5\n",
      "Lefebre     0           4\n",
      "Gustafsson  0           4\n",
      "Palsson     0           4\n",
      "Carter      1           4\n",
      "dtype: int64\n"
     ]
    }
   ],
   "source": [
    "#split Name Colum with regex into new Columns, in order to get the first names and the family name separated\n",
    "names_df = df.loc[:,['Name', 'Survived', 'Sex']].copy()\n",
    "\n",
    "names_df['Lastname'] = names_df.Name.str.extract('(\\w*),',expand=True)\n",
    "names_df['Title'] = names_df.Name.str.extract('(\\w*)\\.', expand=True)\n",
    "names_df['Firstname'] = names_df.Name.str.extract('\\.(.*)', expand=True)\n",
    "names_df['Maidenname'] = names_df.Name.str.extract('\\((.*)\\)', expand=True)\n",
    "names_df.drop('Name', 1, inplace = True)\n",
    "\n",
    "#split the first names in order the get firstname of every person\n",
    "first_names_df = names_df.loc[:,['Firstname', 'Survived', 'Sex']].copy()\n",
    "first_names_df['FirstFirstName'] = first_names_df.Firstname.str.extract('([^\\s]+)',expand=True)\n",
    "first_names_df['FirstFirstNameFemale'] = first_names_df.Firstname.str.extract('\\(([^\\s]+)',expand=True)\n",
    "\n",
    "def get_first_names(passenger):\n",
    "    FirstFirstNameFemale, FirstFirstName, Sex = passenger\n",
    "    if (Sex == 'female') and (FirstFirstNameFemale != ''):\n",
    "        return FirstFirstNameFemale\n",
    "    else:\n",
    "        return FirstFirstName\n",
    "\n",
    "first_names_df['Real_First_Name'] = first_names_df[['FirstFirstNameFemale', 'FirstFirstName', 'Sex']].apply(get_first_names, axis=1)\n",
    "\n",
    "first_names_df.drop('FirstFirstNameFemale', 1, inplace = True)\n",
    "first_names_df.drop('FirstFirstName', 1, inplace = True)\n",
    "first_names_df.drop('Firstname', 1, inplace = True)\n",
    "\n",
    "groupNames = first_names_df.groupby(['Real_First_Name', 'Survived'])\n",
    "print 'Firstnames------------------------------'\n",
    "#get most common first names\n",
    "print groupNames.size().sort_values(ascending=False).head(20)\n",
    "\n",
    "print 'Lastnames------------------------------'\n",
    "#get most common last names\n",
    "group_last_names = names_df.groupby(['Lastname', 'Survived'])\n",
    "print group_last_names.size().sort_values(ascending=False).head(10)\n"
   ]
  },
  {
   "cell_type": "markdown",
   "metadata": {
    "collapsed": true
   },
   "source": [
    "*4a. What is the most common first name?*\n",
    "\n",
    "The most common male first name is 'William'. The most commen female first name is 'Elizabeth'.\n",
    "\n",
    "*4b. What is the most common last name?*\n",
    "\n",
    "The most common family name was 'Andersson'.\n",
    "\n",
    "*4c. Where they more likely to survive?*\n",
    "\n",
    "No\n"
   ]
  }
 ],
 "metadata": {
  "anaconda-cloud": {},
  "kernelspec": {
   "display_name": "Python [Root]",
   "language": "python",
   "name": "Python [Root]"
  },
  "language_info": {
   "codemirror_mode": {
    "name": "ipython",
    "version": 2
   },
   "file_extension": ".py",
   "mimetype": "text/x-python",
   "name": "python",
   "nbconvert_exporter": "python",
   "pygments_lexer": "ipython2",
   "version": "2.7.12"
  }
 },
 "nbformat": 4,
 "nbformat_minor": 0
}
