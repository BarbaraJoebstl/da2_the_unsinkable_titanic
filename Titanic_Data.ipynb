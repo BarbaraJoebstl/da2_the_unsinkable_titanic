{
 "cells": [
  {
   "cell_type": "markdown",
   "metadata": {},
   "source": [
    "***THE UNSINKABLE TITANIC***\n",
    "\n",
    "<cite>\n",
    "The sinking of the RMS Titanic is one of the most infamous shipwrecks in history.\n",
    "On April 15, 1912, during her maiden voyage, the Titanic sank after colliding with an iceberg, killing 1502 out of 2224 passengers and crew. This sensational tragedy shocked the international community and led to better safety regulations for ships. One of the reasons that the shipwreck led to such loss of life was that there were not enough lifeboats for the passengers and crew. Although there was some element of luck involved in surviving the sinking, some groups of people were more likely to survive than others, such as women, children, and the upper-class.</cite>"
   ]
  },
  {
   "cell_type": "code",
   "execution_count": 28,
   "metadata": {
    "collapsed": false
   },
   "outputs": [
    {
     "data": {
      "text/html": [
       "<div>\n",
       "<table border=\"1\" class=\"dataframe\">\n",
       "  <thead>\n",
       "    <tr style=\"text-align: right;\">\n",
       "      <th></th>\n",
       "      <th>PassengerId</th>\n",
       "      <th>Survived</th>\n",
       "      <th>Pclass</th>\n",
       "      <th>Name</th>\n",
       "      <th>Sex</th>\n",
       "      <th>Age</th>\n",
       "      <th>SibSp</th>\n",
       "      <th>Parch</th>\n",
       "      <th>Ticket</th>\n",
       "      <th>Fare</th>\n",
       "      <th>Cabin</th>\n",
       "      <th>Embarked</th>\n",
       "    </tr>\n",
       "  </thead>\n",
       "  <tbody>\n",
       "    <tr>\n",
       "      <th>0</th>\n",
       "      <td>1</td>\n",
       "      <td>0</td>\n",
       "      <td>3</td>\n",
       "      <td>Braund, Mr. Owen Harris</td>\n",
       "      <td>male</td>\n",
       "      <td>22.0</td>\n",
       "      <td>1</td>\n",
       "      <td>0</td>\n",
       "      <td>A/5 21171</td>\n",
       "      <td>7.2500</td>\n",
       "      <td>NaN</td>\n",
       "      <td>S</td>\n",
       "    </tr>\n",
       "    <tr>\n",
       "      <th>1</th>\n",
       "      <td>2</td>\n",
       "      <td>1</td>\n",
       "      <td>1</td>\n",
       "      <td>Cumings, Mrs. John Bradley (Florence Briggs Th...</td>\n",
       "      <td>female</td>\n",
       "      <td>38.0</td>\n",
       "      <td>1</td>\n",
       "      <td>0</td>\n",
       "      <td>PC 17599</td>\n",
       "      <td>71.2833</td>\n",
       "      <td>C85</td>\n",
       "      <td>C</td>\n",
       "    </tr>\n",
       "    <tr>\n",
       "      <th>2</th>\n",
       "      <td>3</td>\n",
       "      <td>1</td>\n",
       "      <td>3</td>\n",
       "      <td>Heikkinen, Miss. Laina</td>\n",
       "      <td>female</td>\n",
       "      <td>26.0</td>\n",
       "      <td>0</td>\n",
       "      <td>0</td>\n",
       "      <td>STON/O2. 3101282</td>\n",
       "      <td>7.9250</td>\n",
       "      <td>NaN</td>\n",
       "      <td>S</td>\n",
       "    </tr>\n",
       "    <tr>\n",
       "      <th>3</th>\n",
       "      <td>4</td>\n",
       "      <td>1</td>\n",
       "      <td>1</td>\n",
       "      <td>Futrelle, Mrs. Jacques Heath (Lily May Peel)</td>\n",
       "      <td>female</td>\n",
       "      <td>35.0</td>\n",
       "      <td>1</td>\n",
       "      <td>0</td>\n",
       "      <td>113803</td>\n",
       "      <td>53.1000</td>\n",
       "      <td>C123</td>\n",
       "      <td>S</td>\n",
       "    </tr>\n",
       "    <tr>\n",
       "      <th>4</th>\n",
       "      <td>5</td>\n",
       "      <td>0</td>\n",
       "      <td>3</td>\n",
       "      <td>Allen, Mr. William Henry</td>\n",
       "      <td>male</td>\n",
       "      <td>35.0</td>\n",
       "      <td>0</td>\n",
       "      <td>0</td>\n",
       "      <td>373450</td>\n",
       "      <td>8.0500</td>\n",
       "      <td>NaN</td>\n",
       "      <td>S</td>\n",
       "    </tr>\n",
       "  </tbody>\n",
       "</table>\n",
       "</div>"
      ],
      "text/plain": [
       "   PassengerId  Survived  Pclass  \\\n",
       "0            1         0       3   \n",
       "1            2         1       1   \n",
       "2            3         1       3   \n",
       "3            4         1       1   \n",
       "4            5         0       3   \n",
       "\n",
       "                                                Name     Sex   Age  SibSp  \\\n",
       "0                            Braund, Mr. Owen Harris    male  22.0      1   \n",
       "1  Cumings, Mrs. John Bradley (Florence Briggs Th...  female  38.0      1   \n",
       "2                             Heikkinen, Miss. Laina  female  26.0      0   \n",
       "3       Futrelle, Mrs. Jacques Heath (Lily May Peel)  female  35.0      1   \n",
       "4                           Allen, Mr. William Henry    male  35.0      0   \n",
       "\n",
       "   Parch            Ticket     Fare Cabin Embarked  \n",
       "0      0         A/5 21171   7.2500   NaN        S  \n",
       "1      0          PC 17599  71.2833   C85        C  \n",
       "2      0  STON/O2. 3101282   7.9250   NaN        S  \n",
       "3      0            113803  53.1000  C123        S  \n",
       "4      0            373450   8.0500   NaN        S  "
      ]
     },
     "execution_count": 28,
     "metadata": {},
     "output_type": "execute_result"
    }
   ],
   "source": [
    "%matplotlib inline \n",
    "\n",
    "import pandas as pd\n",
    "import numpy as np\n",
    "import matplotlib.pyplot as plt\n",
    "import seaborn as sns\n",
    "\n",
    "path = r'titanic_data.csv'\n",
    "data = pd.read_csv(path)\n",
    "data.head(5)"
   ]
  },
  {
   "cell_type": "markdown",
   "metadata": {},
   "source": [
    "**Meaning of the Columns**\n",
    "\n",
    "PassengerId: Id for the passenger in this dataset <br>\n",
    "Survived: 1 = Yes, 0 = No <br>\n",
    "Pclass: Passenger Class (1 = best class, 3 = 3rd class)  <br>\n",
    "Name: Name  <br>\n",
    "Sex: Sex <br>\n",
    "Age: Age<br>\n",
    "SibS: Number of Siblings/Spouses Aboard<br>\n",
    "Parch: Number of Parents/Children Aboard<br>\n",
    "Ticket: Ticket Number<br>\n",
    "Fare: Passenger Fare<br>\n",
    "Cabin: Cabin Number<br>\n",
    "Embarked: Port of Embarkation (C = Cherbourg; Q = Queenstown; S = Southampton)<br>"
   ]
  },
  {
   "cell_type": "code",
   "execution_count": 29,
   "metadata": {
    "collapsed": false
   },
   "outputs": [
    {
     "data": {
      "text/plain": [
       "891"
      ]
     },
     "execution_count": 29,
     "metadata": {},
     "output_type": "execute_result"
    }
   ],
   "source": [
    "len(data)"
   ]
  },
  {
   "cell_type": "code",
   "execution_count": 30,
   "metadata": {
    "collapsed": false
   },
   "outputs": [],
   "source": [
    "df = pd.read_csv(path, index_col=0, parse_dates=True)"
   ]
  },
  {
   "cell_type": "code",
   "execution_count": 31,
   "metadata": {
    "collapsed": false
   },
   "outputs": [
    {
     "data": {
      "text/plain": [
       "342"
      ]
     },
     "execution_count": 31,
     "metadata": {},
     "output_type": "execute_result"
    }
   ],
   "source": [
    "df.Survived.sum()"
   ]
  },
  {
   "cell_type": "code",
   "execution_count": 32,
   "metadata": {
    "collapsed": false
   },
   "outputs": [
    {
     "data": {
      "text/plain": [
       "Survived    891\n",
       "Pclass      891\n",
       "Name        891\n",
       "Sex         891\n",
       "Age         714\n",
       "SibSp       891\n",
       "Parch       891\n",
       "Ticket      891\n",
       "Fare        891\n",
       "Cabin       204\n",
       "Embarked    889\n",
       "dtype: int64"
      ]
     },
     "execution_count": 32,
     "metadata": {},
     "output_type": "execute_result"
    }
   ],
   "source": [
    "#return the NaN Values of the columns\n",
    "df.count()"
   ]
  },
  {
   "cell_type": "code",
   "execution_count": 33,
   "metadata": {
    "collapsed": false
   },
   "outputs": [
    {
     "data": {
      "text/html": [
       "<div>\n",
       "<table border=\"1\" class=\"dataframe\">\n",
       "  <thead>\n",
       "    <tr style=\"text-align: right;\">\n",
       "      <th></th>\n",
       "      <th>Survived</th>\n",
       "      <th>Pclass</th>\n",
       "      <th>Age</th>\n",
       "      <th>SibSp</th>\n",
       "      <th>Parch</th>\n",
       "      <th>Fare</th>\n",
       "    </tr>\n",
       "  </thead>\n",
       "  <tbody>\n",
       "    <tr>\n",
       "      <th>count</th>\n",
       "      <td>891.000000</td>\n",
       "      <td>891.000000</td>\n",
       "      <td>714.000000</td>\n",
       "      <td>891.000000</td>\n",
       "      <td>891.000000</td>\n",
       "      <td>891.000000</td>\n",
       "    </tr>\n",
       "    <tr>\n",
       "      <th>mean</th>\n",
       "      <td>0.383838</td>\n",
       "      <td>2.308642</td>\n",
       "      <td>29.699118</td>\n",
       "      <td>0.523008</td>\n",
       "      <td>0.381594</td>\n",
       "      <td>32.204208</td>\n",
       "    </tr>\n",
       "    <tr>\n",
       "      <th>std</th>\n",
       "      <td>0.486592</td>\n",
       "      <td>0.836071</td>\n",
       "      <td>14.526497</td>\n",
       "      <td>1.102743</td>\n",
       "      <td>0.806057</td>\n",
       "      <td>49.693429</td>\n",
       "    </tr>\n",
       "    <tr>\n",
       "      <th>min</th>\n",
       "      <td>0.000000</td>\n",
       "      <td>1.000000</td>\n",
       "      <td>0.420000</td>\n",
       "      <td>0.000000</td>\n",
       "      <td>0.000000</td>\n",
       "      <td>0.000000</td>\n",
       "    </tr>\n",
       "    <tr>\n",
       "      <th>25%</th>\n",
       "      <td>0.000000</td>\n",
       "      <td>2.000000</td>\n",
       "      <td>NaN</td>\n",
       "      <td>0.000000</td>\n",
       "      <td>0.000000</td>\n",
       "      <td>7.910400</td>\n",
       "    </tr>\n",
       "    <tr>\n",
       "      <th>50%</th>\n",
       "      <td>0.000000</td>\n",
       "      <td>3.000000</td>\n",
       "      <td>NaN</td>\n",
       "      <td>0.000000</td>\n",
       "      <td>0.000000</td>\n",
       "      <td>14.454200</td>\n",
       "    </tr>\n",
       "    <tr>\n",
       "      <th>75%</th>\n",
       "      <td>1.000000</td>\n",
       "      <td>3.000000</td>\n",
       "      <td>NaN</td>\n",
       "      <td>1.000000</td>\n",
       "      <td>0.000000</td>\n",
       "      <td>31.000000</td>\n",
       "    </tr>\n",
       "    <tr>\n",
       "      <th>max</th>\n",
       "      <td>1.000000</td>\n",
       "      <td>3.000000</td>\n",
       "      <td>80.000000</td>\n",
       "      <td>8.000000</td>\n",
       "      <td>6.000000</td>\n",
       "      <td>512.329200</td>\n",
       "    </tr>\n",
       "  </tbody>\n",
       "</table>\n",
       "</div>"
      ],
      "text/plain": [
       "         Survived      Pclass         Age       SibSp       Parch        Fare\n",
       "count  891.000000  891.000000  714.000000  891.000000  891.000000  891.000000\n",
       "mean     0.383838    2.308642   29.699118    0.523008    0.381594   32.204208\n",
       "std      0.486592    0.836071   14.526497    1.102743    0.806057   49.693429\n",
       "min      0.000000    1.000000    0.420000    0.000000    0.000000    0.000000\n",
       "25%      0.000000    2.000000         NaN    0.000000    0.000000    7.910400\n",
       "50%      0.000000    3.000000         NaN    0.000000    0.000000   14.454200\n",
       "75%      1.000000    3.000000         NaN    1.000000    0.000000   31.000000\n",
       "max      1.000000    3.000000   80.000000    8.000000    6.000000  512.329200"
      ]
     },
     "execution_count": 33,
     "metadata": {},
     "output_type": "execute_result"
    }
   ],
   "source": [
    "df.describe()"
   ]
  },
  {
   "cell_type": "code",
   "execution_count": 34,
   "metadata": {
    "collapsed": false
   },
   "outputs": [
    {
     "name": "stdout",
     "output_type": "stream",
     "text": [
      "Total survivors: 32 %\n",
      "Sample survivors: 38 %\n"
     ]
    }
   ],
   "source": [
    "per_total_survivors = (722*100)/2224\n",
    "per_sample_surviviors = (342*100)/891\n",
    "\n",
    "print 'Total survivors:', per_total_survivors, '%'\n",
    "print 'Sample survivors:', per_sample_surviviors, '%'"
   ]
  },
  {
   "cell_type": "markdown",
   "metadata": {},
   "source": [
    "**This Dataset**\n",
    "\n",
    "We have the Data of *891 Passengers* of the Titanic. As the total number of passengers and crew was 2224 Persons, we have a sample of data.\n",
    "\n",
    "Looking at the data, we can see that the survailability of passengers has no missing values. The Cabin column has the most missing values. If we want to get more data for the cabin column, we could assume that people with the same family name shared a cabin. But as this is only assumption and as we don't really need the cabin number for our tests, we will omit the cabin data.\n",
    "The second highest missing values has the Age column. As the range of age is broad, imputing the mean age value wouldn't be a good idea. But the existing amount age data should be sufficient for doing a statistical test.\n",
    "At the Embarked column there are only 2 values missing, compared to the whole count of 891 data rows. So we can use it without any worries.\n",
    "\n",
    "From this group of passengers(891 Passengers), 342 passengers survived. \n",
    "\n",
    "We will not be able to proof caustion with this dataset. Because for causation we would need to have a controlled expmeriment. So we will take a look at the correlation between the values of the dataset. \n",
    "It is important to say that this is only a sample. 38% of the sample data passengers survived, but only 32% from the population data survived. This shows clearly that we can't get any inference from the sample data to the population data.\n",
    "\n",
    "**This leads to the following questions:**\n",
    "\n",
    "*1. Fares and Embarkation*\n",
    "- Is there a relation between the class and the ticket fare?\n",
    "- Is there a relation between the port of embarkation and class?\n",
    "- Is there a difference between the wealth of the people from the embarkation point? \n",
    "- Is there a relation between the passenger class and the survival rate? Are passengers from the first class more likely to survive?\n",
    "\n",
    "*2. Family Spirit*\n",
    "- Is a person with a Sibling/Spouse on board more likely to survive?\n",
    "- Is a person with Parents and Children on board more likely to survive?\n",
    "- Is a person with both Siblings and Parents on board more likely to survive?\n",
    "\n",
    "*3. Women and children first*\n",
    "- Is there a relation between the sex and the survival rate?\n",
    "- Is there a relation between the age and the survial rate?\n",
    "- Are female passengers with first class tickets more likely to survive than male passengers from third class?\n",
    "\n",
    "*4. Nomen est omen*\n",
    "- What is the most common first name?\n",
    "- What is the most common last name? \n",
    "- Where they more likely to survive?"
   ]
  },
  {
   "cell_type": "markdown",
   "metadata": {},
   "source": [
    "*** 1. Fares and Embarkation ***"
   ]
  },
  {
   "cell_type": "markdown",
   "metadata": {},
   "source": [
    "*1a. Is there a relation between the passenger class and the tickte fare?*"
   ]
  },
  {
   "cell_type": "code",
   "execution_count": 35,
   "metadata": {
    "collapsed": false
   },
   "outputs": [
    {
     "data": {
      "text/html": [
       "<div>\n",
       "<table border=\"1\" class=\"dataframe\">\n",
       "  <thead>\n",
       "    <tr style=\"text-align: right;\">\n",
       "      <th></th>\n",
       "      <th>PassengerId</th>\n",
       "    </tr>\n",
       "    <tr>\n",
       "      <th>Pclass</th>\n",
       "      <th></th>\n",
       "    </tr>\n",
       "  </thead>\n",
       "  <tbody>\n",
       "    <tr>\n",
       "      <th>1</th>\n",
       "      <td>216</td>\n",
       "    </tr>\n",
       "    <tr>\n",
       "      <th>2</th>\n",
       "      <td>184</td>\n",
       "    </tr>\n",
       "    <tr>\n",
       "      <th>3</th>\n",
       "      <td>491</td>\n",
       "    </tr>\n",
       "  </tbody>\n",
       "</table>\n",
       "</div>"
      ],
      "text/plain": [
       "        PassengerId\n",
       "Pclass             \n",
       "1               216\n",
       "2               184\n",
       "3               491"
      ]
     },
     "execution_count": 35,
     "metadata": {},
     "output_type": "execute_result"
    }
   ],
   "source": [
    "data.groupby(['Pclass'])[['PassengerId']].count()"
   ]
  },
  {
   "cell_type": "code",
   "execution_count": 36,
   "metadata": {
    "collapsed": false
   },
   "outputs": [
    {
     "data": {
      "text/plain": [
       "Pclass      \n",
       "1       mean    84.154687\n",
       "        std     78.380373\n",
       "2       mean    20.662183\n",
       "        std     13.417399\n",
       "3       mean    13.675550\n",
       "        std     11.778142\n",
       "Name: Fare, dtype: float64"
      ]
     },
     "execution_count": 36,
     "metadata": {},
     "output_type": "execute_result"
    },
    {
     "data": {
      "image/png": "[encoded data removed]",
      "text/plain": [
       "<matplotlib.figure.Figure at 0x11875ed50>"
      ]
     },
     "metadata": {},
     "output_type": "display_data"
    }
   ],
   "source": [
    "df.boxplot(column=['Fare'], by = ['Pclass']).set_yscale('log')\n",
    "df.groupby(['Pclass'])['Fare'].describe().loc[:, ['mean', 'std']]"
   ]
  },
  {
   "cell_type": "code",
   "execution_count": 37,
   "metadata": {
    "collapsed": false
   },
   "outputs": [
    {
     "data": {
      "text/html": [
       "<div>\n",
       "<table border=\"1\" class=\"dataframe\">\n",
       "  <thead>\n",
       "    <tr style=\"text-align: right;\">\n",
       "      <th></th>\n",
       "      <th></th>\n",
       "      <th>Fare</th>\n",
       "    </tr>\n",
       "    <tr>\n",
       "      <th>Pclass</th>\n",
       "      <th></th>\n",
       "      <th></th>\n",
       "    </tr>\n",
       "  </thead>\n",
       "  <tbody>\n",
       "    <tr>\n",
       "      <th rowspan=\"8\" valign=\"top\">1.0</th>\n",
       "      <th>count</th>\n",
       "      <td>211.000000</td>\n",
       "    </tr>\n",
       "    <tr>\n",
       "      <th>mean</th>\n",
       "      <td>86.148874</td>\n",
       "    </tr>\n",
       "    <tr>\n",
       "      <th>std</th>\n",
       "      <td>78.212155</td>\n",
       "    </tr>\n",
       "    <tr>\n",
       "      <th>min</th>\n",
       "      <td>5.000000</td>\n",
       "    </tr>\n",
       "    <tr>\n",
       "      <th>25%</th>\n",
       "      <td>32.910400</td>\n",
       "    </tr>\n",
       "    <tr>\n",
       "      <th>50%</th>\n",
       "      <td>61.979200</td>\n",
       "    </tr>\n",
       "    <tr>\n",
       "      <th>75%</th>\n",
       "      <td>99.962500</td>\n",
       "    </tr>\n",
       "    <tr>\n",
       "      <th>max</th>\n",
       "      <td>512.329200</td>\n",
       "    </tr>\n",
       "    <tr>\n",
       "      <th rowspan=\"8\" valign=\"top\">2.0</th>\n",
       "      <th>count</th>\n",
       "      <td>178.000000</td>\n",
       "    </tr>\n",
       "    <tr>\n",
       "      <th>mean</th>\n",
       "      <td>21.358661</td>\n",
       "    </tr>\n",
       "    <tr>\n",
       "      <th>std</th>\n",
       "      <td>13.083169</td>\n",
       "    </tr>\n",
       "    <tr>\n",
       "      <th>min</th>\n",
       "      <td>10.500000</td>\n",
       "    </tr>\n",
       "    <tr>\n",
       "      <th>25%</th>\n",
       "      <td>13.000000</td>\n",
       "    </tr>\n",
       "    <tr>\n",
       "      <th>50%</th>\n",
       "      <td>15.022900</td>\n",
       "    </tr>\n",
       "    <tr>\n",
       "      <th>75%</th>\n",
       "      <td>26.000000</td>\n",
       "    </tr>\n",
       "    <tr>\n",
       "      <th>max</th>\n",
       "      <td>73.500000</td>\n",
       "    </tr>\n",
       "    <tr>\n",
       "      <th rowspan=\"8\" valign=\"top\">3.0</th>\n",
       "      <th>count</th>\n",
       "      <td>487.000000</td>\n",
       "    </tr>\n",
       "    <tr>\n",
       "      <th>mean</th>\n",
       "      <td>13.787875</td>\n",
       "    </tr>\n",
       "    <tr>\n",
       "      <th>std</th>\n",
       "      <td>11.760718</td>\n",
       "    </tr>\n",
       "    <tr>\n",
       "      <th>min</th>\n",
       "      <td>4.012500</td>\n",
       "    </tr>\n",
       "    <tr>\n",
       "      <th>25%</th>\n",
       "      <td>7.750000</td>\n",
       "    </tr>\n",
       "    <tr>\n",
       "      <th>50%</th>\n",
       "      <td>8.050000</td>\n",
       "    </tr>\n",
       "    <tr>\n",
       "      <th>75%</th>\n",
       "      <td>15.500000</td>\n",
       "    </tr>\n",
       "    <tr>\n",
       "      <th>max</th>\n",
       "      <td>69.550000</td>\n",
       "    </tr>\n",
       "  </tbody>\n",
       "</table>\n",
       "</div>"
      ],
      "text/plain": [
       "                    Fare\n",
       "Pclass                  \n",
       "1.0    count  211.000000\n",
       "       mean    86.148874\n",
       "       std     78.212155\n",
       "       min      5.000000\n",
       "       25%     32.910400\n",
       "       50%     61.979200\n",
       "       75%     99.962500\n",
       "       max    512.329200\n",
       "2.0    count  178.000000\n",
       "       mean    21.358661\n",
       "       std     13.083169\n",
       "       min     10.500000\n",
       "       25%     13.000000\n",
       "       50%     15.022900\n",
       "       75%     26.000000\n",
       "       max     73.500000\n",
       "3.0    count  487.000000\n",
       "       mean    13.787875\n",
       "       std     11.760718\n",
       "       min      4.012500\n",
       "       25%      7.750000\n",
       "       50%      8.050000\n",
       "       75%     15.500000\n",
       "       max     69.550000"
      ]
     },
     "execution_count": 37,
     "metadata": {},
     "output_type": "execute_result"
    }
   ],
   "source": [
    "fare_df = df.loc[:,['Fare', 'Pclass']]\n",
    "#skip the null values for the fares\n",
    "fare_df.Fare = fare_df.Fare[fare_df.Fare > 0]\n",
    "fare_df.Pclass = fare_df.Pclass[fare_df.Fare > 0]\n",
    "\n",
    "fare_df = fare_df.groupby(['Pclass'])\n",
    "fare_df.describe()"
   ]
  },
  {
   "cell_type": "markdown",
   "metadata": {},
   "source": [
    "Of course there is a relation between the fare and the passenger class. The mean price for a first class ticket is 86.14, the mean price for a second class ticket is 21.35 and the mean price for a third class ticket is 13.78."
   ]
  },
  {
   "cell_type": "code",
   "execution_count": 38,
   "metadata": {
    "collapsed": false
   },
   "outputs": [
    {
     "name": "stdout",
     "output_type": "stream",
     "text": [
      "('C', 512.32920000000001, 32.2042079685746, 0.0)\n"
     ]
    }
   ],
   "source": [
    "#In what Port was the most expensive ticket bought?\n",
    "#C = Cherbourg; Q = Queenstown; S = Southampton\n",
    "#What was the most expensive ticket\n",
    "fare_list = df['Fare'].tolist()\n",
    "embarked_list = df['Embarked'].tolist()\n",
    "\n",
    "fare = pd.Series(fare_list, index=embarked_list)\n",
    "\n",
    "def highest_fare(fare):\n",
    "    port_with_highest_fare = fare.argmax()\n",
    "    highest_fare = fare.max()\n",
    "    mean_fare = fare.mean()\n",
    "    #because min value is 0.00\n",
    "    min_fare = fare.min()\n",
    "     \n",
    "    return (port_with_highest_fare, highest_fare, mean_fare, min_fare)\n",
    "\n",
    "print highest_fare(fare)"
   ]
  },
  {
   "cell_type": "markdown",
   "metadata": {},
   "source": [
    "The most expensive ticket was sold in Cherbourg and it cost 512.33.\n",
    "\n",
    "*1b. Is there a relation between the port of embarkation and the passenger class?*"
   ]
  },
  {
   "cell_type": "code",
   "execution_count": 39,
   "metadata": {
    "collapsed": false
   },
   "outputs": [
    {
     "data": {
      "text/plain": [
       "<matplotlib.text.Text at 0x11845b6d0>"
      ]
     },
     "execution_count": 39,
     "metadata": {},
     "output_type": "execute_result"
    },
    {
     "data": {
      "image/png": "[encoded data removed]",
      "text/plain": [
       "<matplotlib.figure.Figure at 0x114b69490>"
      ]
     },
     "metadata": {},
     "output_type": "display_data"
    }
   ],
   "source": [
    "def get_class_by_embarking(port, pclass):    \n",
    "    pclass = df[(df[\"Embarked\"]== port) & (df['Pclass'] == pclass)].count().Cabin\n",
    "    return pclass\n",
    "\n",
    "df.groupby('Embarked')['Pclass'].value_counts().unstack().plot(kind = 'bar')\n",
    "plt.legend(['First Class', 'Second Class', 'Third Class'])\n",
    "plt.xticks([0, 1, 2], ['Cherbourg', 'Queenstown', 'Southampton'], rotation = 0)\n",
    "plt.title('Passenger Counts\\nby\\nClass and Port')"
   ]
  },
  {
   "cell_type": "code",
   "execution_count": 40,
   "metadata": {
    "collapsed": false
   },
   "outputs": [
    {
     "data": {
      "text/plain": [
       "<matplotlib.text.Text at 0x11817a390>"
      ]
     },
     "execution_count": 40,
     "metadata": {},
     "output_type": "execute_result"
    },
    {
     "data": {
      "image/png": "[encoded data removed]",
      "text/plain": [
       "<matplotlib.figure.Figure at 0x11877bd50>"
      ]
     },
     "metadata": {},
     "output_type": "display_data"
    }
   ],
   "source": [
    "df.groupby('Embarked')['Survived'].value_counts().unstack().plot(kind = 'bar')\n",
    "plt.legend(['Survived', 'Dead'])\n",
    "plt.xticks([0, 1, 2], ['Cherbourg', 'Queenstown', 'Southampton'], rotation = 0)\n",
    "plt.title('Passenger Counts\\nby\\nClass and Port')"
   ]
  },
  {
   "cell_type": "markdown",
   "metadata": {},
   "source": [
    "Regarding the numbers we can say that in Queenstown alomst only third class tickets where sold. Whereas in Cherbourg the highest part on first class tickets where bought."
   ]
  },
  {
   "cell_type": "markdown",
   "metadata": {},
   "source": [
    "*1c. Is there a difference between the wealth of the people from the embarkation point?*\n",
    "\n",
    "Regarding the ticket sales it seems that in the area of Queenstown a lot of poor people lived, where as in Cherbourg there where mainly rich (1st class) or poor (3rd class) people. In Southampton there is almost the same amount of 1st and 2nd class tickets, but also here the 3rd class tickets take the major part."
   ]
  },
  {
   "cell_type": "markdown",
   "metadata": {},
   "source": [
    "*1d. Is there a relation between the passenger class and the survival rate? Are passengers from the first class more likely to survive? *"
   ]
  },
  {
   "cell_type": "code",
   "execution_count": 41,
   "metadata": {
    "collapsed": false
   },
   "outputs": [
    {
     "name": "stdout",
     "output_type": "stream",
     "text": [
      "Survivors in % by Port\n",
      "33 % from Southampton survived\n",
      "55 % from Cherbourg survived\n",
      "38 % from Queenstown survived\n",
      "-------------------\n",
      "20 % from Southampton had a cabin\n",
      "41 % from Cherbourg had a cabin\n",
      "5 % from Queenstown had a cabin\n",
      "-------------------\n",
      "-------------------\n",
      "Survival by class\n",
      "Survived  Pclass\n",
      "0         1          80\n",
      "          2          97\n",
      "          3         372\n",
      "1         1         136\n",
      "          2          87\n",
      "          3         119\n",
      "dtype: int64\n"
     ]
    }
   ],
   "source": [
    "def passengers_and_survivors_by_port(port):\n",
    "    passengers = df[df.Embarked == port]['Survived'].count()\n",
    "    survivors = df[(df[\"Embarked\"]== port) & (df['Survived'] == 1)].count().Survived\n",
    "    cabin = df[(df[\"Embarked\"]== port) & (df['Cabin'])].count().Cabin\n",
    "    \n",
    "    return(passengers, survivors, cabin)\n",
    "\n",
    "def percentage_of_survivors_by_port(port):\n",
    "    passengers = df[df.Embarked == port]['Survived'].count()\n",
    "    survivors = df[(df[\"Embarked\"]== port) & (df['Survived'] == 1)].count().Survived\n",
    "    \n",
    "    return  survivors*100/passengers\n",
    "\n",
    "def percentage_of_cabin_owners_port(port):\n",
    "    passengers = df[df.Embarked == port]['Survived'].count()\n",
    "    cabin = df[(df[\"Embarked\"]== port) & (df['Cabin'])].count().Cabin\n",
    "    \n",
    "    return  cabin*100/passengers\n",
    "\n",
    "def class_members_by_port(port):\n",
    "    class_1 = df[(df[\"Embarked\"]== port) & (df['Pclass'] == 1)].count().Embarked\n",
    "    class_2 = df[(df[\"Embarked\"]== port) & (df['Pclass'] == 2)].count().Embarked\n",
    "    class_3 = df[(df[\"Embarked\"]== port) & (df['Pclass'] == 3)].count().Embarked\n",
    "    return (class_1, class_2, class_3)\n",
    "\n",
    "print 'Survivors in % by Port'\n",
    "print percentage_of_survivors_by_port('S'), '% from Southampton survived'\n",
    "print percentage_of_survivors_by_port('C'), '% from Cherbourg survived'\n",
    "print percentage_of_survivors_by_port('Q'), '% from Queenstown survived'\n",
    "print '-------------------'\n",
    "print percentage_of_cabin_owners_port('S'), '% from Southampton had a cabin'\n",
    "print percentage_of_cabin_owners_port('C'), '% from Cherbourg had a cabin'\n",
    "print percentage_of_cabin_owners_port('Q'), '% from Queenstown had a cabin'\n",
    "print '-------------------'\n",
    "print '-------------------'\n",
    "\n",
    "print 'Survival by class'\n",
    "grouped_data = df.groupby(['Survived', 'Pclass'])\n",
    "print grouped_data.size()"
   ]
  },
  {
   "cell_type": "markdown",
   "metadata": {},
   "source": [
    "As we can see in the plot above, the most passengers from the first class embarked in Cherbourg. And because 55% of the people from Cherbourg survived and also 44% percent of the passengers from Cherbourg hat a cabin, we can say that people from the first class are more likely to survive than people from the lower classes. "
   ]
  },
  {
   "cell_type": "markdown",
   "metadata": {},
   "source": [
    "*** 2. FAMILY SPIRIT ***"
   ]
  },
  {
   "cell_type": "code",
   "execution_count": 42,
   "metadata": {
    "collapsed": false
   },
   "outputs": [
    {
     "name": "stdout",
     "output_type": "stream",
     "text": [
      "-0.549499619944\n",
      "-0.0779826784139\n",
      "-0.338481035961\n"
     ]
    },
    {
     "data": {
      "text/html": [
       "<div>\n",
       "<table border=\"1\" class=\"dataframe\">\n",
       "  <thead>\n",
       "    <tr style=\"text-align: right;\">\n",
       "      <th></th>\n",
       "      <th>Survived</th>\n",
       "      <th>Pclass</th>\n",
       "      <th>Age</th>\n",
       "      <th>SibSp</th>\n",
       "      <th>Parch</th>\n",
       "      <th>Fare</th>\n",
       "    </tr>\n",
       "  </thead>\n",
       "  <tbody>\n",
       "    <tr>\n",
       "      <th>Survived</th>\n",
       "      <td>1.000000</td>\n",
       "      <td>-0.338481</td>\n",
       "      <td>-0.077221</td>\n",
       "      <td>-0.035322</td>\n",
       "      <td>0.081629</td>\n",
       "      <td>0.257307</td>\n",
       "    </tr>\n",
       "    <tr>\n",
       "      <th>Pclass</th>\n",
       "      <td>-0.338481</td>\n",
       "      <td>1.000000</td>\n",
       "      <td>-0.369226</td>\n",
       "      <td>0.083081</td>\n",
       "      <td>0.018443</td>\n",
       "      <td>-0.549500</td>\n",
       "    </tr>\n",
       "    <tr>\n",
       "      <th>Age</th>\n",
       "      <td>-0.077221</td>\n",
       "      <td>-0.369226</td>\n",
       "      <td>1.000000</td>\n",
       "      <td>-0.308247</td>\n",
       "      <td>-0.189119</td>\n",
       "      <td>0.096067</td>\n",
       "    </tr>\n",
       "    <tr>\n",
       "      <th>SibSp</th>\n",
       "      <td>-0.035322</td>\n",
       "      <td>0.083081</td>\n",
       "      <td>-0.308247</td>\n",
       "      <td>1.000000</td>\n",
       "      <td>0.414838</td>\n",
       "      <td>0.159651</td>\n",
       "    </tr>\n",
       "    <tr>\n",
       "      <th>Parch</th>\n",
       "      <td>0.081629</td>\n",
       "      <td>0.018443</td>\n",
       "      <td>-0.189119</td>\n",
       "      <td>0.414838</td>\n",
       "      <td>1.000000</td>\n",
       "      <td>0.216225</td>\n",
       "    </tr>\n",
       "    <tr>\n",
       "      <th>Fare</th>\n",
       "      <td>0.257307</td>\n",
       "      <td>-0.549500</td>\n",
       "      <td>0.096067</td>\n",
       "      <td>0.159651</td>\n",
       "      <td>0.216225</td>\n",
       "      <td>1.000000</td>\n",
       "    </tr>\n",
       "  </tbody>\n",
       "</table>\n",
       "</div>"
      ],
      "text/plain": [
       "          Survived    Pclass       Age     SibSp     Parch      Fare\n",
       "Survived  1.000000 -0.338481 -0.077221 -0.035322  0.081629  0.257307\n",
       "Pclass   -0.338481  1.000000 -0.369226  0.083081  0.018443 -0.549500\n",
       "Age      -0.077221 -0.369226  1.000000 -0.308247 -0.189119  0.096067\n",
       "SibSp    -0.035322  0.083081 -0.308247  1.000000  0.414838  0.159651\n",
       "Parch     0.081629  0.018443 -0.189119  0.414838  1.000000  0.216225\n",
       "Fare      0.257307 -0.549500  0.096067  0.159651  0.216225  1.000000"
      ]
     },
     "execution_count": 42,
     "metadata": {},
     "output_type": "execute_result"
    }
   ],
   "source": [
    "def correlation(x, y):\n",
    "    std_x = (x - x.mean()) / x.std(ddof=0)\n",
    "    std_y = (y - y.mean()) / y.std(ddof=0)\n",
    "    \n",
    "    return (std_x * std_y).mean()\n",
    "#correlation between entry point and ticket fee\n",
    "correlation_embarkingAndFare = correlation(df.Pclass, df.Fare)\n",
    "print correlation_embarkingAndFare\n",
    "\n",
    "correlation_surviveAndAge = correlation(df.Survived, df.Age)\n",
    "print correlation_surviveAndAge\n",
    "\n",
    "correlation_surviveAndClass = correlation(df.Survived, df.Pclass)\n",
    "print correlation_surviveAndClass\n",
    "\n",
    "#get correlation with build in function\n",
    "df.corr()"
   ]
  },
  {
   "cell_type": "markdown",
   "metadata": {},
   "source": [
    "*2a. Is a person with a Sibling/Spouse on board more likely to survive?*\n",
    "*2b. Is a person with Parents and Children on board more likely to survive?*\n",
    "*2c. Is a person with both Siblings and Parents on board more likely to survive?*"
   ]
  },
  {
   "cell_type": "code",
   "execution_count": 53,
   "metadata": {
    "collapsed": false
   },
   "outputs": [
    {
     "data": {
      "text/plain": [
       "<matplotlib.text.Text at 0x11887d450>"
      ]
     },
     "execution_count": 53,
     "metadata": {},
     "output_type": "execute_result"
    },
    {
     "data": {
      "image/png": "[encoded data removed]",
      "text/plain": [
       "<matplotlib.figure.Figure at 0x119854250>"
      ]
     },
     "metadata": {},
     "output_type": "display_data"
    },
    {
     "data": {
      "image/png": "[encoded data removed]",
      "text/plain": [
       "<matplotlib.figure.Figure at 0x119cd3510>"
      ]
     },
     "metadata": {},
     "output_type": "display_data"
    }
   ],
   "source": [
    "family_df = df.loc[:, ['SibSp', 'Parch', 'Survived']]\n",
    "\n",
    "#create a column where we can sum up the relations\n",
    "family_df['Family'] = family_df['SibSp'] + family_df['Parch']\n",
    "family_df['Family'].loc[family_df['Family'] > 0] = \"YES\"\n",
    "family_df['Family'].loc[family_df['Family'] == 0] = \"NO\"\n",
    "\n",
    "sns.factorplot('Family', data=family_df, kind='count')\n",
    "sns.plt.title('Passengers with family aboard')\n",
    "\n",
    "#transform valus for the family column\n",
    "family_df['Family'] = family_df['Family'].map({'YES': 'hasFamily', 'NO': 'noFamily'})\n",
    "family_df['Survived'] = family_df['Survived'].map({0: 'died', 1: 'survived'})\n",
    "\n",
    "\n",
    "sns.factorplot('Survived', data=family_df, hue='Family',kind='count')\n",
    "sns.plt.title('Survived passengers depending on family abord')"
   ]
  },
  {
   "cell_type": "markdown",
   "metadata": {},
   "source": [
    "As we can see in the plot above people with family on board where more likely to survive. This proofs the families have a better bonding."
   ]
  },
  {
   "cell_type": "markdown",
   "metadata": {},
   "source": [
    "**3. WOMEN AND CHILDREN FIRST**\n",
    "\n",
    "3a. Is there a relation between the sex and the survival rate?"
   ]
  },
  {
   "cell_type": "code",
   "execution_count": 44,
   "metadata": {
    "collapsed": false
   },
   "outputs": [
    {
     "data": {
      "text/html": [
       "<div>\n",
       "<table border=\"1\" class=\"dataframe\">\n",
       "  <thead>\n",
       "    <tr style=\"text-align: right;\">\n",
       "      <th></th>\n",
       "      <th></th>\n",
       "      <th>Survived</th>\n",
       "    </tr>\n",
       "    <tr>\n",
       "      <th>Pclass</th>\n",
       "      <th>Sex</th>\n",
       "      <th></th>\n",
       "    </tr>\n",
       "  </thead>\n",
       "  <tbody>\n",
       "    <tr>\n",
       "      <th rowspan=\"2\" valign=\"top\">1</th>\n",
       "      <th>female</th>\n",
       "      <td>0.968085</td>\n",
       "    </tr>\n",
       "    <tr>\n",
       "      <th>male</th>\n",
       "      <td>0.368852</td>\n",
       "    </tr>\n",
       "    <tr>\n",
       "      <th rowspan=\"2\" valign=\"top\">2</th>\n",
       "      <th>female</th>\n",
       "      <td>0.921053</td>\n",
       "    </tr>\n",
       "    <tr>\n",
       "      <th>male</th>\n",
       "      <td>0.157407</td>\n",
       "    </tr>\n",
       "    <tr>\n",
       "      <th rowspan=\"2\" valign=\"top\">3</th>\n",
       "      <th>female</th>\n",
       "      <td>0.500000</td>\n",
       "    </tr>\n",
       "    <tr>\n",
       "      <th>male</th>\n",
       "      <td>0.135447</td>\n",
       "    </tr>\n",
       "  </tbody>\n",
       "</table>\n",
       "</div>"
      ],
      "text/plain": [
       "               Survived\n",
       "Pclass Sex             \n",
       "1      female  0.968085\n",
       "       male    0.368852\n",
       "2      female  0.921053\n",
       "       male    0.157407\n",
       "3      female  0.500000\n",
       "       male    0.135447"
      ]
     },
     "execution_count": 44,
     "metadata": {},
     "output_type": "execute_result"
    }
   ],
   "source": [
    "df.groupby(['Pclass', 'Sex'])[['Survived']].mean()"
   ]
  },
  {
   "cell_type": "code",
   "execution_count": 45,
   "metadata": {
    "collapsed": false
   },
   "outputs": [
    {
     "data": {
      "text/plain": [
       "<matplotlib.text.Text at 0x11878c510>"
      ]
     },
     "execution_count": 45,
     "metadata": {},
     "output_type": "execute_result"
    },
    {
     "data": {
      "image/png": "[encoded data removed]",
      "text/plain": [
       "<matplotlib.figure.Figure at 0x117ef33d0>"
      ]
     },
     "metadata": {},
     "output_type": "display_data"
    }
   ],
   "source": [
    "gender_df = df.loc[:,['Sex','Age','Survived', 'Pclass']].copy()\n",
    "lm = sns.lmplot('Age','Survived', gender_df, hue='Sex', size=6, legend=True)\n",
    "lm = (lm.set_axis_labels(\"Age\", \"<--- Dead - Survived --->\")\n",
    "      .set(ylim=(0, 1), yticks=[0,1]).fig.subplots_adjust(wspace=.02))\n",
    "sns.plt.title('Relation between sex, age and survival rate')"
   ]
  },
  {
   "cell_type": "markdown",
   "metadata": {},
   "source": [
    "As we see in the plot above more women survived the titanic. Older Women are more likely to survive than older men. Younger children are more likely to survive, than children older than 10. It also shows that an 80 year old man was saved.\n",
    "\n",
    "*3b. Is there a relation between the age and the survial rate?*"
   ]
  },
  {
   "cell_type": "code",
   "execution_count": 46,
   "metadata": {
    "collapsed": false
   },
   "outputs": [
    {
     "data": {
      "text/plain": [
       "<matplotlib.text.Text at 0x1189a0710>"
      ]
     },
     "execution_count": 46,
     "metadata": {},
     "output_type": "execute_result"
    },
    {
     "data": {
      "image/png": "[encoded data removed]",
      "text/plain": [
       "<matplotlib.figure.Figure at 0x1188f6990>"
      ]
     },
     "metadata": {},
     "output_type": "display_data"
    },
    {
     "data": {
      "image/png": "[encoded data removed]",
      "text/plain": [
       "<matplotlib.figure.Figure at 0x118373c50>"
      ]
     },
     "metadata": {},
     "output_type": "display_data"
    }
   ],
   "source": [
    "def get_childs(passenger):\n",
    "    age,sex = passenger\n",
    "    if age<13:\n",
    "        return 'child'\n",
    "    else:\n",
    "        return sex\n",
    "\n",
    "#change values in the sex column    \n",
    "gender_df['Sex'] = gender_df[['Age','Sex']].apply(get_childs, axis=1)\n",
    "\n",
    "\n",
    "sns.factorplot('Survived',data=gender_df, hue='Sex', kind='count')\n",
    "sns.plt.title('Survival rate by gender')\n",
    "sns.factorplot('Sex', data = gender_df, hue=\"Pclass\", kind=\"count\")\n",
    "sns.plt.title('Passengers by gender and passenger class')"
   ]
  },
  {
   "cell_type": "code",
   "execution_count": 47,
   "metadata": {
    "collapsed": false
   },
   "outputs": [
    {
     "data": {
      "text/html": [
       "<div>\n",
       "<table border=\"1\" class=\"dataframe\">\n",
       "  <thead>\n",
       "    <tr style=\"text-align: right;\">\n",
       "      <th></th>\n",
       "      <th></th>\n",
       "      <th>Survived</th>\n",
       "    </tr>\n",
       "    <tr>\n",
       "      <th>Sex</th>\n",
       "      <th>Pclass</th>\n",
       "      <th></th>\n",
       "    </tr>\n",
       "  </thead>\n",
       "  <tbody>\n",
       "    <tr>\n",
       "      <th rowspan=\"3\" valign=\"top\">child</th>\n",
       "      <th>1</th>\n",
       "      <td>0.750000</td>\n",
       "    </tr>\n",
       "    <tr>\n",
       "      <th>2</th>\n",
       "      <td>1.000000</td>\n",
       "    </tr>\n",
       "    <tr>\n",
       "      <th>3</th>\n",
       "      <td>0.416667</td>\n",
       "    </tr>\n",
       "    <tr>\n",
       "      <th rowspan=\"3\" valign=\"top\">female</th>\n",
       "      <th>1</th>\n",
       "      <td>0.978495</td>\n",
       "    </tr>\n",
       "    <tr>\n",
       "      <th>2</th>\n",
       "      <td>0.911765</td>\n",
       "    </tr>\n",
       "    <tr>\n",
       "      <th>3</th>\n",
       "      <td>0.504132</td>\n",
       "    </tr>\n",
       "    <tr>\n",
       "      <th rowspan=\"3\" valign=\"top\">male</th>\n",
       "      <th>1</th>\n",
       "      <td>0.352941</td>\n",
       "    </tr>\n",
       "    <tr>\n",
       "      <th>2</th>\n",
       "      <td>0.080808</td>\n",
       "    </tr>\n",
       "    <tr>\n",
       "      <th>3</th>\n",
       "      <td>0.118012</td>\n",
       "    </tr>\n",
       "  </tbody>\n",
       "</table>\n",
       "</div>"
      ],
      "text/plain": [
       "               Survived\n",
       "Sex    Pclass          \n",
       "child  1       0.750000\n",
       "       2       1.000000\n",
       "       3       0.416667\n",
       "female 1       0.978495\n",
       "       2       0.911765\n",
       "       3       0.504132\n",
       "male   1       0.352941\n",
       "       2       0.080808\n",
       "       3       0.118012"
      ]
     },
     "execution_count": 47,
     "metadata": {},
     "output_type": "execute_result"
    },
    {
     "data": {
      "image/png": "[encoded data removed]",
      "text/plain": [
       "<matplotlib.figure.Figure at 0x103e6f4d0>"
      ]
     },
     "metadata": {},
     "output_type": "display_data"
    }
   ],
   "source": [
    "gender_df.groupby(['Sex', 'Pclass'])[['Survived']].mean().unstack().plot(kind='bar').set_ylabel('Count')\n",
    "gender_df.groupby(['Sex', 'Pclass'])[['Survived']].mean()"
   ]
  },
  {
   "cell_type": "markdown",
   "metadata": {},
   "source": [
    "There is a relation between the sex and the survival rate. But surprisingly almost as near as many children died as survived. This is caused by the fact, that most of the children where third class passengers."
   ]
  },
  {
   "cell_type": "code",
   "execution_count": 48,
   "metadata": {
    "collapsed": false
   },
   "outputs": [
    {
     "data": {
      "text/plain": [
       "<matplotlib.text.Text at 0x1198d4e50>"
      ]
     },
     "execution_count": 48,
     "metadata": {},
     "output_type": "execute_result"
    },
    {
     "data": {
      "image/png": "[encoded data removed]",
      "text/plain": [
       "<matplotlib.figure.Figure at 0x119820350>"
      ]
     },
     "metadata": {},
     "output_type": "display_data"
    }
   ],
   "source": [
    "sns.swarmplot(x=\"Survived\", y=\"Age\", data=gender_df, hue=\"Sex\", size=5)\n",
    "sns.plt.title('Relation between sex, age and survival rate')"
   ]
  },
  {
   "cell_type": "markdown",
   "metadata": {
    "collapsed": true
   },
   "source": [
    "*3c. Are female passengers with first class tickets more likely to survive than male passengers from third class?*"
   ]
  },
  {
   "cell_type": "code",
   "execution_count": 49,
   "metadata": {
    "collapsed": false
   },
   "outputs": [
    {
     "data": {
      "text/plain": [
       "<matplotlib.text.Text at 0x119aee3d0>"
      ]
     },
     "execution_count": 49,
     "metadata": {},
     "output_type": "execute_result"
    },
    {
     "data": {
      "image/png": "[encoded data removed]",
      "text/plain": [
       "<matplotlib.figure.Figure at 0x118348cd0>"
      ]
     },
     "metadata": {},
     "output_type": "display_data"
    }
   ],
   "source": [
    "lm = sns.lmplot('Pclass','Survived', gender_df, hue='Sex', size=6, legend=True)\n",
    "lm = (lm.set_axis_labels('Passenger Class', '<--- Dead - Survived --->').set(ylim=(0, 1), yticks=[0,1], xlim=(1, 3), xticks=[1,2,3]).fig.subplots_adjust(wspace=.02))\n",
    "sns.plt.title('Relation between sex, age, passenger class and survival rate')"
   ]
  },
  {
   "cell_type": "code",
   "execution_count": 50,
   "metadata": {
    "collapsed": false
   },
   "outputs": [
    {
     "data": {
      "text/plain": [
       "<matplotlib.text.Text at 0x119e527d0>"
      ]
     },
     "execution_count": 50,
     "metadata": {},
     "output_type": "execute_result"
    },
    {
     "data": {
      "image/png": "[encoded data removed]",
      "text/plain": [
       "<matplotlib.figure.Figure at 0x1182ab8d0>"
      ]
     },
     "metadata": {},
     "output_type": "display_data"
    }
   ],
   "source": [
    "class_df = gender_df.groupby(['Pclass', 'Survived'], as_index=False).mean()\n",
    "scaled_entries = (class_df/class_df.std())\n",
    "\n",
    "plt.scatter(class_df['Survived'], class_df['Pclass'], s=scaled_entries*100)\n",
    "plt.xticks([0,1])\n",
    "plt.xlabel('Survived')\n",
    "plt.yticks([1,2,3])\n",
    "plt.xlabel('Survived')\n",
    "sns.plt.title('Scatterplot with scaled entries of survivors by passenger class')"
   ]
  },
  {
   "cell_type": "code",
   "execution_count": 51,
   "metadata": {
    "collapsed": false
   },
   "outputs": [
    {
     "data": {
      "text/plain": [
       "<matplotlib.text.Text at 0x119ea9950>"
      ]
     },
     "execution_count": 51,
     "metadata": {},
     "output_type": "execute_result"
    },
    {
     "data": {
      "image/png": "[encoded data removed]",
      "text/plain": [
       "<matplotlib.figure.Figure at 0x118348210>"
      ]
     },
     "metadata": {},
     "output_type": "display_data"
    }
   ],
   "source": [
    "sns.swarmplot(x=\"Survived\", y=\"Pclass\", data=gender_df, hue=\"Sex\", size=3)\n",
    "plt.xticks([0,1])\n",
    "plt.yticks([1,2,3])\n",
    "\n",
    "sns.plt.title('Relation between sex, passenger class and survival rate')"
   ]
  },
  {
   "cell_type": "markdown",
   "metadata": {},
   "source": [
    "As we can see in the plot above women from the first class are much mor likely to survive than men from the third class."
   ]
  },
  {
   "cell_type": "markdown",
   "metadata": {},
   "source": [
    "*** 4. NOMEN EST OMEN ***"
   ]
  },
  {
   "cell_type": "code",
   "execution_count": 52,
   "metadata": {
    "collapsed": false
   },
   "outputs": [
    {
     "name": "stdout",
     "output_type": "stream",
     "text": [
      "Firstnames------------------------------\n",
      "Real_First_Name  Survived\n",
      "William          0           27\n",
      "John             0           22\n",
      "Thomas           0           11\n",
      "Charles          0           10\n",
      "James            0           10\n",
      "George           0           10\n",
      "Henry            0            9\n",
      "Johan            0            8\n",
      "Richard          0            8\n",
      "William          1            8\n",
      "Frederick        0            7\n",
      "Alfred           0            7\n",
      "Joseph           0            6\n",
      "Edward           0            6\n",
      "Arthur           0            6\n",
      "Karl             0            6\n",
      "Elizabeth        1            6\n",
      "Ernest           0            5\n",
      "Samuel           0            5\n",
      "Robert           0            5\n",
      "dtype: int64\n",
      "Lastnames------------------------------\n",
      "Lastname    Survived\n",
      "Andersson   0           7\n",
      "Sage        0           7\n",
      "Goodwin     0           6\n",
      "Panula      0           6\n",
      "Skoog       0           6\n",
      "Rice        0           5\n",
      "Lefebre     0           4\n",
      "Gustafsson  0           4\n",
      "Palsson     0           4\n",
      "Carter      1           4\n",
      "dtype: int64\n"
     ]
    }
   ],
   "source": [
    "#split Name Colum with regex into new Columns, in order to get the first names and the family name separated\n",
    "names_df = df.loc[:,['Name', 'Survived', 'Sex']].copy()\n",
    "\n",
    "names_df['Lastname'] = names_df.Name.str.extract('(\\w*),',expand=True)\n",
    "names_df['Title'] = names_df.Name.str.extract('(\\w*)\\.', expand=True)\n",
    "names_df['Firstname'] = names_df.Name.str.extract('\\.(.*)', expand=True)\n",
    "names_df['Maidenname'] = names_df.Name.str.extract('\\((.*)\\)', expand=True)\n",
    "names_df.drop('Name', 1, inplace = True)\n",
    "\n",
    "#split the first names in order the get firstname of every person\n",
    "first_names_df = names_df.loc[:,['Firstname', 'Survived', 'Sex']].copy()\n",
    "first_names_df['FirstFirstName'] = first_names_df.Firstname.str.extract('([^\\s]+)',expand=True)\n",
    "first_names_df['FirstFirstNameFemale'] = first_names_df.Firstname.str.extract('\\(([^\\s]+)',expand=True)\n",
    "\n",
    "def get_first_names(passenger):\n",
    "    FirstFirstNameFemale, FirstFirstName, Sex = passenger\n",
    "    if (Sex == 'female') and (FirstFirstNameFemale != ''):\n",
    "        return FirstFirstNameFemale\n",
    "    else:\n",
    "        return FirstFirstName\n",
    "\n",
    "first_names_df['Real_First_Name'] = first_names_df[['FirstFirstNameFemale', 'FirstFirstName', 'Sex']].apply(get_first_names, axis=1)\n",
    "\n",
    "first_names_df.drop('FirstFirstNameFemale', 1, inplace = True)\n",
    "first_names_df.drop('FirstFirstName', 1, inplace = True)\n",
    "first_names_df.drop('Firstname', 1, inplace = True)\n",
    "\n",
    "groupNames = first_names_df.groupby(['Real_First_Name', 'Survived'])\n",
    "print 'Firstnames------------------------------'\n",
    "#get most common first names\n",
    "print groupNames.size().sort_values(ascending=False).head(20)\n",
    "\n",
    "print 'Lastnames------------------------------'\n",
    "#get most common last names\n",
    "group_last_names = names_df.groupby(['Lastname', 'Survived'])\n",
    "print group_last_names.size().sort_values(ascending=False).head(10)\n"
   ]
  },
  {
   "cell_type": "markdown",
   "metadata": {
    "collapsed": true
   },
   "source": [
    "*4a. What is the most common first name?*\n",
    "\n",
    "The most common male first name is 'William'. The most commen female first name is 'Elizabeth'.\n",
    "\n",
    "*4b. What is the most common last name?*\n",
    "\n",
    "The most common family name was 'Andersson'.\n",
    "\n",
    "*4c. Where they more likely to survive?*\n",
    "\n",
    "No"
   ]
  },
  {
   "cell_type": "markdown",
   "metadata": {},
   "source": [
    "*** Conclusion ***\n",
    "\n",
    "*Fares and Embarkation*:\n",
    "There is a relation between fare and passenger class. Between the mean price first class fare (86.15), and the mean price for the second class (21.36), there is a huge difference. But between the price of a second class ticket and a third class ticket (13.79), there isn't a difference that big. This may be caused by the big demand for tickets.\n",
    "An interesting finding is that a high amount of first class tickets are sold in Cherbourg (France). Whereas in Queenstown (Ireland) almost only 3rd class tickets are sold. Most of the tickets are sold in Southampton, which seems logical, because this is starting place of the Titanic and the biggest port.\n",
    "People from the first class are more likely to survive than people from the lower classes. This is no surprise.\n",
    "\n",
    "*Family Spirit*:\n",
    "People with family on board are more likely to survive. This proofs the families have a better bonding.\n",
    "\n",
    "*Women and children first*:\n",
    "Women are more likely to survive than man. Surprisingly almost the same amout of children, up to the age of 13, survived and died. This may be caused by the fact that there are a lot of children as third class passengers.\n",
    "\n",
    "*Nomen est omen*:\n",
    "The most common names on the Titanic are \"William\" and \"Elizabeth\". The most common family name on board is \"Andersson\". We can't say that people with distinct names are more likely to survive than people with other names.\n",
    "\n",
    "*Potential limitations of this dataset*:\n",
    "We have to remember that this dataset is a sample. And regarding that 38% of the sample passengers survived but only 32% survived in the population, we can't get real inference from this data. The missing values of the age column, may bias our findings. The other missing values, mentioned at the beginning, are not needed or very litte, so we don't have to worry about them.\n",
    "It is not clear, if all the passengers are passengers or passengers and employees of the Titanic. This may bias the data. Maybe the survival rate for women is higher, if there are only passengers in this dataset. We could go on with the research and suggest that every passenger with a fare of \"0\" is an employee and split up the data into more detail.\n",
    "Maybe it would be also interesting to get some information about the occupational groups the passengers. Maybe we could find some relations between the occupational group, wealth and the survival rate of this group."
   ]
  }
 ],
 "metadata": {
  "anaconda-cloud": {},
  "kernelspec": {
   "display_name": "Python [Root]",
   "language": "python",
   "name": "Python [Root]"
  },
  "language_info": {
   "codemirror_mode": {
    "name": "ipython",
    "version": 2
   },
   "file_extension": ".py",
   "mimetype": "text/x-python",
   "name": "python",
   "nbconvert_exporter": "python",
   "pygments_lexer": "ipython2",
   "version": "2.7.12"
  }
 },
 "nbformat": 4,
 "nbformat_minor": 0
}
